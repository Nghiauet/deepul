{
 "cells": [
  {
   "cell_type": "markdown",
   "metadata": {
    "colab_type": "text",
    "id": "view-in-github"
   },
   "source": [
    "<a href=\"https://colab.research.google.com/github/rll/deepul/blob/master/homeworks/hw1/hw1.ipynb\" target=\"_parent\"><img src=\"https://colab.research.google.com/assets/colab-badge.svg\" alt=\"Open In Colab\"/></a>"
   ]
  },
  {
   "cell_type": "markdown",
   "metadata": {
    "id": "Rdy1FtrRpGcC"
   },
   "source": [
    "# Getting Started\n",
    "\n",
    "## Overview\n",
    "This semester, all homeworks will be conducted through Google Colab notebooks. All code for the homework assignment will be written and run in this notebook. Running in Colab will automatically provide a GPU, but you may also run this notebook locally by following [these instructions](https://research.google.com/colaboratory/local-runtimes.html) if you wish to use your own GPU.\n",
    "\n",
    "You will save images in the notebooks to use and fill out a given LaTeX template which will be submitted to Gradescope, along with your notebook code.\n",
    "\n",
    "## Using Colab\n",
    "On the left-hand side, you can click the different icons to see a Table of Contents of the assignment, as well as local files accessible through the notebook.\n",
    "\n",
    "Make sure to go to **Runtime -> Change runtime type** and select **GPU** as the hardware accelerator. This allows you to use a GPU. Run the cells below to get started on the assignment. Note that a session is open for a maximum of 12 hours, and using too much GPU compute may result in restricted access for a short period of time. Please start the homework early so you have ample time to work.\n",
    "\n",
    "**If you load this notebook by clicking \"Open in Colab\" from github, you will need to save it to your own Google Drive to keep your work.**\n",
    "\n",
    "## General Tips\n",
    "In each homework problem, you will implement autoregressive models and run it on various datasets. Oftentime you will run it on two datasets (dataset 1 and dataset 2). In these cases, the expected outputs for dataset 1 are already provided to help as a sanity check.\n",
    "\n",
    "Feel free to print whatever output (e.g. debugging code, training code, etc) you want, as the graded submission will be the submitted pdf with images.\n",
    "\n",
    "After you complete the assignment, download all of the images outputted in the results/ folder and upload them to the figure folder in the given latex template.\n",
    "\n",
    "There is a lot of freedom in this homework to design write and design your own models. Hyperparameters are given as a guide to show what worked for us, but feel free to explore and use what you find is best!\n",
    "\n",
    "Run the cells below to download and load up the starter code."
   ]
  },
  {
   "cell_type": "code",
   "execution_count": 1,
   "metadata": {
    "colab": {
     "base_uri": "https://localhost:8080/"
    },
    "id": "wUVy2glDtoaR",
    "outputId": "25ae66e6-0a38-4c5d-89ad-91b696af731c"
   },
   "outputs": [],
   "source": [
    "# !if [ -d deepul ]; then rm -Rf deepul; fi\n",
    "# !git clone https://github.com/rll/deepul.git \n",
    "# !unzip -qq deepul/homeworks/hw1/data/hw1_data.zip -d deepul/homeworks/hw1/data/\n",
    "# !pip install ./deepul"
   ]
  },
  {
   "cell_type": "code",
   "execution_count": 2,
   "metadata": {
    "id": "ZHWosWrbpO5Y"
   },
   "outputs": [],
   "source": [
    "import numpy as np\n",
    "import copy\n",
    "# import jax.numpy as np\n",
    "\n",
    "from deepul.hw1_helper import (\n",
    "    # Q1\n",
    "    visualize_q1_data,\n",
    "    q1_sample_data_1,\n",
    "    q1_sample_data_2,\n",
    "    q1_save_results,\n",
    "    # Q2\n",
    "    q2a_save_results,\n",
    "    q2b_save_results,\n",
    "    visualize_q2a_data,\n",
    "    visualize_q2b_data,\n",
    "    # Q3\n",
    "    \n",
    "    q3ab_save_results,\n",
    "    q3c_save_results,\n",
    "    # Q4\n",
    "    q4a_save_results,\n",
    "    q4b_save_results,\n",
    "    # Q5\n",
    "    visualize_q5_data,\n",
    "    q5a_save_results,\n",
    "    # Q6\n",
    "    visualize_q6_data,\n",
    "    q6a_save_results,\n",
    ")"
   ]
  },
  {
   "cell_type": "markdown",
   "metadata": {
    "id": "7E4CMktzo100"
   },
   "source": [
    "# Question 1: 1D Data\n",
    "\n",
    "In this question, we will train simple generative models on discrete 1D data.\n",
    "\n",
    "Execute the cell below to visualize our datasets"
   ]
  },
  {
   "cell_type": "code",
   "execution_count": 3,
   "metadata": {
    "colab": {
     "base_uri": "https://localhost:8080/",
     "height": 607
    },
    "id": "ehhv2FZGo4_b",
    "outputId": "9d7fcbbc-5b19-47e8-8f9f-23a2c9ca6744"
   },
   "outputs": [],
   "source": [
    "# visualize_q1_data(dset_type=1)\n",
    "# visualize_q1_data(dset_type=2)"
   ]
  },
  {
   "cell_type": "markdown",
   "metadata": {
    "id": "kSGTVznZqAR3"
   },
   "source": [
    "## Part (a) Fitting a Histogram\n",
    "\n",
    "Let $\\theta = (\\theta_0, \\dots, \\theta_{d-1}) \\in \\mathbb{R}^{d}$ and define the model $p_\\theta(x) = \\frac{e^{\\theta_x}}{\\sum_{x'}e^{\\theta_{x'}}}$\n",
    "\n",
    "Fit $p_\\theta$ with maximum likelihood via stochastic gradient descent on the training set, using $\\theta$ initialized to zero. Use your favorite version of stochastic gradient descent, and optimize your hyperparameters on a validation set of your choice.\n",
    "\n",
    "**You will provide these deliverables**\n",
    "\n",
    "\n",
    "1.   Over the course of training, record the average negative log-likelihood (nats / dim) of the training data (per minibatch) and test data (for your entire test set). Code is provided that automatically plots the training curves. \n",
    "2.   Report the final test set performance of your final model\n",
    "3. Plot the model probabilities in a bar graph with $\\{0,\\dots,d-1\\}$ on the x-axis and a real number in $[0,1]$ on the y-axis.\n",
    "\n",
    "\n"
   ]
  },
  {
   "cell_type": "markdown",
   "metadata": {
    "id": "Yg0Jmo1PSaE4"
   },
   "source": [
    "Fill out the function below and return the necessary arguments. Feel free to create more cells if need be."
   ]
  },
  {
   "cell_type": "code",
   "execution_count": 4,
   "metadata": {
    "id": "BJNa6dHKpEQU"
   },
   "outputs": [],
   "source": [
    "\n",
    "def softmax_probs(theta):\n",
    "    \"\"\"Computes all softmax probabilities for given theta.\"\"\"\n",
    "    theta_shifted = theta - np.max(theta)  # Stability trick\n",
    "    exp_theta = np.exp(theta_shifted)\n",
    "    return exp_theta / np.sum(exp_theta)\n",
    "def q1_a(train_data, test_data, d, dset_id):\n",
    "    \"\"\"\n",
    "    Optimized version of q1_a for better performance\n",
    "    \"\"\"\n",
    "    train_losses = []\n",
    "    test_losses = []\n",
    "    theta = np.zeros(d, dtype=float)\n",
    "    y = np.bincount(train_data, minlength=d) / len(train_data)\n",
    "    \n",
    "    print(\"train_data shape: \", train_data.shape)\n",
    "    print(\"d: \", d)\n",
    "    print(\"dset_id\", dset_id)\n",
    "\n",
    "    # Hyperparameters\n",
    "    epochs = 200000\n",
    "    learning_rate = 0.1\n",
    "    \n",
    "    # Calculate test loss only periodically\n",
    "    eval_interval = 10\n",
    "    \n",
    "    # Pre-allocate arrays\n",
    "    train_losses = np.zeros(epochs)\n",
    "    test_losses = np.zeros(epochs)\n",
    "    \n",
    "    for epoch in range(epochs):\n",
    "        probs = softmax_probs(theta)\n",
    "        nll = -np.mean(np.log(probs[train_data]))\n",
    "        d_nll = probs - y\n",
    "        \n",
    "        theta -= learning_rate * d_nll\n",
    "        train_losses[epoch] = nll\n",
    "        \n",
    "        # Calculate test loss only periodically\n",
    "        if epoch % eval_interval == 0:\n",
    "            t_nll = -np.mean(np.log(probs[test_data]))\n",
    "            test_losses[epoch] = t_nll\n",
    "        elif epoch > 0:  # Copy the previous value for non-evaluated epochs\n",
    "            test_losses[epoch] = test_losses[epoch-1]\n",
    "    \n",
    "    distribution = softmax_probs(theta)\n",
    "    return train_losses, test_losses, distribution"
   ]
  },
  {
   "cell_type": "markdown",
   "metadata": {
    "id": "SiGBSP-ESeIj"
   },
   "source": [
    "### Results\n",
    "\n",
    "Once you've implemented `q1_a`, execute the cells below to visualize and save your results\n",
    "\n"
   ]
  },
  {
   "cell_type": "code",
   "execution_count": 5,
   "metadata": {
    "colab": {
     "base_uri": "https://localhost:8080/",
     "height": 590
    },
    "id": "qjK_KReXsqYa",
    "outputId": "a4c6bd70-96fb-430a-8312-8cfab7169ca4"
   },
   "outputs": [],
   "source": [
    "# q1_save_results(1, 'a', q1_a)"
   ]
  },
  {
   "cell_type": "code",
   "execution_count": 6,
   "metadata": {
    "colab": {
     "base_uri": "https://localhost:8080/",
     "height": 590
    },
    "id": "sJVOUEaaZXcA",
    "outputId": "eaded21d-fc51-4f23-ea1a-ab63f3b829e1"
   },
   "outputs": [],
   "source": [
    "# q1_save_results(2, 'a', q1_a)"
   ]
  },
  {
   "cell_type": "markdown",
   "metadata": {
    "id": "DiyFXlj0rfcr"
   },
   "source": [
    "## Part (b) Fitting Discretized Mixture of Logistics\n",
    "\n",
    "Let us model $p_\\theta(x)$ as a **discretized** mixture of 4 logistics such that $p_\\theta(x) = \\sum_{i=1}^4 \\pi_i[\\sigma((x+0.5 - \\mu_i)/s_i) - \\sigma((x-0.5-\\mu_i)/s_i)]$\n",
    "\n",
    "For the edge case of when $x = 0$, we replace $x-0.5$ by $-\\infty$, and for $x = 99$, we replace $x+0.5$ by $\\infty$.\n",
    "\n",
    "You may find the [PixelCNN++](https://arxiv.org/abs/1701.05517) helpful for more information on discretized mixture of logistics.\n",
    "\n",
    "**Provide the same set of corresponding deliverables as part (a)**"
   ]
  },
  {
   "cell_type": "markdown",
   "metadata": {
    "id": "f4dnQIg_TDx6"
   },
   "source": [
    "Fill out the function below and return the necessary arguments. Feel free to create more cells if need be."
   ]
  },
  {
   "cell_type": "code",
   "execution_count": 7,
   "metadata": {
    "id": "uAvMQDJJrjNo"
   },
   "outputs": [],
   "source": [
    "import torch\n",
    "import torch.nn as nn\n",
    "import torch.optim as optim\n",
    "import numpy as np\n",
    "from torch.utils.data import DataLoader, TensorDataset\n",
    "import torch.nn.functional as F\n",
    "\n",
    "class MixtureOfLogistics(nn.Module):\n",
    "    \"\"\"Mixture of Logistics distribution model for discrete data.\"\"\"\n",
    "    \n",
    "    def __init__(self, d, n_mix=4):\n",
    "        \"\"\"\n",
    "        Initialize the Mixture of Logistics model.\n",
    "        \n",
    "        Args:\n",
    "            d: Number of possible discrete values (0 to d-1)\n",
    "            n_mix: Number of mixture components\n",
    "        \"\"\"\n",
    "        super().__init__()\n",
    "        self.d = d\n",
    "        self.n_mix = n_mix\n",
    "        \n",
    "        # TODO: Initialize model parameters\n",
    "        # 1. Mixture weights (logit_probs)\n",
    "        # 2. Component means (means)\n",
    "        # 3. Component scales (log_scales)\n",
    "        self.logit_probs = nn.Parameter(torch.zeros(n_mix)) # shape (n_mix,)\n",
    "        init_means = torch.linspace(0,d-1,n_mix) + torch.randn(n_mix)*0.1  #shape (n_mix,)\n",
    "        self.means = nn.Parameter(torch.clamp(init_means,0,d-1))\n",
    "        self.log_scales = nn.Parameter(torch.ones(n_mix)*0.5) # shape (n_mix,1)\n",
    "        \n",
    "    \n",
    "    def forward(self, x):\n",
    "        \"\"\"\n",
    "        Compute the log probability of each value in x.\n",
    "        \n",
    "        Args:\n",
    "            x: tensor of shape (batch_size,) containing integers in {0, ..., d-1}\n",
    "            \n",
    "        Returns:\n",
    "            tensor of shape (batch_size,) containing log probabilities\n",
    "        \"\"\"\n",
    "        # TODO: Implement forward pass\n",
    "        # 1. Get mixture weights using softmax on logit_probs\n",
    "        # 2. Ensure scales are positive (e.g., using softplus)\n",
    "        # 3. Calculate CDF at x+0.5 and x-0.5 for each component\n",
    "        # 4. Handle edge cases (x=0 and x=d-1)\n",
    "        # 5. Compute probabilities from CDF differences\n",
    "        # 6. Weight by mixture weights and sum\n",
    "        # 7. Return log probabilities\n",
    "        probs = torch.softmax(self.logit_probs, dim=0)  # n_mix\n",
    "        probs = probs.unsqueeze(0)  # 1, n_mix\n",
    "\n",
    "        scales = nn.functional.softplus(self.log_scales)  # n_mix \n",
    "        scales = scales.unsqueeze(0)  # 1, n_mix\n",
    "\n",
    "        x = x.unsqueeze(1)  # batch_size,1\n",
    "        x_float = x.float()\n",
    "        first_term = torch.sigmoid((x_float + 0.5 - self.means) / scales)\n",
    "        second_term = torch.sigmoid((x_float - 0.5 - self.means) / scales)\n",
    "\n",
    "        # Handle edge cases\n",
    "        is_d_minus_one = (x == self.d - 1)\n",
    "        is_zero = (x == 0)\n",
    "        first_term = torch.where(is_d_minus_one, torch.ones_like(first_term), first_term)\n",
    "        second_term = torch.where(is_zero, torch.zeros_like(second_term), second_term)\n",
    "\n",
    "        # Calculate component probabilities\n",
    "        component_probs = first_term - second_term  # batch_size, n_mix\n",
    "        probabilities = probs * component_probs  # batch_size, n_mix\n",
    "        probabilities = probabilities.sum(dim=1)  # batch_size\n",
    "\n",
    "        # Return log probabilities\n",
    "        return torch.log(probabilities + 1e-10)\n",
    "    \n",
    "    def get_distribution(self):\n",
    "        \"\"\"\n",
    "        Returns the probability distribution over all possible values.\n",
    "        \n",
    "        Returns:\n",
    "            numpy array of shape (d,) containing probabilities\n",
    "        \"\"\"\n",
    "        device = next(self.parameters()).device\n",
    "        x = torch.arange(self.d, device=device)\n",
    "        with torch.no_grad():\n",
    "            log_probs = self.forward(x)\n",
    "            probs = torch.exp(log_probs)\n",
    "            return (probs / torch.sum(probs)).cpu().numpy()\n",
    "\n",
    "\n",
    "def q1_b(train_data, test_data, d, dset_id):\n",
    "    \"\"\"\n",
    "    Train a mixture of logistics model on discrete data.\n",
    "    \"\"\"\n",
    "    # Set random seed and device\n",
    "    torch.manual_seed(42)\n",
    "    np.random.seed(42)\n",
    "    device = torch.device('cuda' if torch.cuda.is_available() else 'cpu')\n",
    "    \n",
    "    # Convert data to tensors\n",
    "    train_tensor = torch.tensor(train_data, dtype=torch.long, device=device)\n",
    "    test_tensor = torch.tensor(test_data, dtype=torch.long, device=device)\n",
    "    \n",
    "    # Create dataset and dataloader\n",
    "    train_dataset = TensorDataset(train_tensor)\n",
    "    test_dataset = TensorDataset(test_tensor)\n",
    "    # Set hyperparameters based on dataset ID\n",
    "    hyperparams = {\n",
    "        1: {\"batch_size\": 800, \"lr\": 0.005, \"num_epochs\": 1}, \n",
    "        2: {\"batch_size\": 800, \"lr\": 0.001, \"num_epochs\": 1}\n",
    "    }[dset_id]\n",
    "    \n",
    "    train_loader = DataLoader(\n",
    "        train_dataset, \n",
    "        batch_size=hyperparams[\"batch_size\"], \n",
    "        shuffle=True\n",
    "    )\n",
    "    test_loader = DataLoader(\n",
    "        test_dataset,\n",
    "        batch_size=hyperparams[\"batch_size\"],\n",
    "        shuffle=False\n",
    "    )\n",
    "    train_losses = np.zeros(hyperparams[\"num_epochs\"])\n",
    "    test_losses = np.zeros(hyperparams[\"num_epochs\"])\n",
    "    # Initialize model and optimizer\n",
    "    model = MixtureOfLogistics(d, n_mix=4).to(device)\n",
    "    optimizer = optim.Adam(model.parameters(), lr=hyperparams[\"lr\"])\n",
    "    \n",
    "    # TODO: Implement training loop\n",
    "    # 1. Track training and test losses\n",
    "    # 2. For each epoch:\n",
    "    #    a. Train the model on batches\n",
    "    #    b. Compute and record loss\n",
    "    #    c. Evaluate on test set\n",
    "    for epoch in range(hyperparams[\"num_epochs\"]):\n",
    "        model.train()\n",
    "        train_loss = 0.0\n",
    "        for batch in train_loader:\n",
    "            optimizer.zero_grad()\n",
    "            x = batch[0].to(device)\n",
    "            log_probs = model(x)\n",
    "            nll = -log_probs.mean()\n",
    "            nll.backward()\n",
    "            \n",
    "            optimizer.step()\n",
    "            train_loss += nll.item()\n",
    "        train_losses[epoch] = train_loss / len(train_loader)\n",
    "        \n",
    "        model.eval()\n",
    "        test_loss = 0.0\n",
    "        with torch.no_grad():\n",
    "            for batch in test_loader:\n",
    "                x = batch[0].to(device)\n",
    "                log_probs = model(x)\n",
    "                nll = -log_probs.mean()\n",
    "                test_loss += nll.item()\n",
    "        test_losses[epoch] = test_loss / len(test_loader)\n",
    "    # Get final model probabilities\n",
    "    model.eval()\n",
    "    model_probs = model.get_distribution()\n",
    "    print(\"len(model_probs)\", len(model_probs))\n",
    "    # Return placeholder values for now\n",
    "    return train_losses, test_losses, model_probs"
   ]
  },
  {
   "cell_type": "markdown",
   "metadata": {
    "id": "VwZyhlewTHH4"
   },
   "source": [
    "### Results\n",
    "\n",
    "Once you've implemented `q1_b`, execute the cells below to visualize and save your results\n",
    "\n"
   ]
  },
  {
   "cell_type": "code",
   "execution_count": 8,
   "metadata": {
    "colab": {
     "base_uri": "https://localhost:8080/",
     "height": 591
    },
    "id": "wnnQORaG6Ouf",
    "outputId": "3890f9ce-84cb-4c48-f2ca-9a1746acc424"
   },
   "outputs": [],
   "source": [
    "# q1_save_results(1, 'b', q1_b)"
   ]
  },
  {
   "cell_type": "code",
   "execution_count": 9,
   "metadata": {
    "colab": {
     "base_uri": "https://localhost:8080/",
     "height": 590
    },
    "id": "1jLGoDa46RM6",
    "outputId": "000a56aa-4811-44ef-a8bb-a2e672cbc106"
   },
   "outputs": [],
   "source": [
    "# q1_save_results(2, 'b', q1_b)"
   ]
  },
  {
   "cell_type": "markdown",
   "metadata": {
    "id": "dP8lmmk7Xrct"
   },
   "source": [
    "# Question 2 PixelCNNs"
   ]
  },
  {
   "cell_type": "markdown",
   "metadata": {
    "id": "4wnyhDNqcAcw"
   },
   "source": [
    "Now, you will train more powerful PixelCNN models on the shapes dataset and MNIST. In addition, we will extend to modeling colored datasets.\n",
    "\n",
    "Run the cell below to visualize the two datasets binary datasets"
   ]
  },
  {
   "cell_type": "code",
   "execution_count": 10,
   "metadata": {},
   "outputs": [
    {
     "name": "stderr",
     "output_type": "stream",
     "text": [
      "/home/nghiaph/miniconda3/lib/python3.12/site-packages/tqdm/auto.py:21: TqdmWarning: IProgress not found. Please update jupyter and ipywidgets. See https://ipywidgets.readthedocs.io/en/stable/user_install.html\n",
      "  from .autonotebook import tqdm as notebook_tqdm\n"
     ]
    },
    {
     "data": {
      "image/png": "[encoded data removed]",
      "text/plain": [
       "<Figure size 640x480 with 1 Axes>"
      ]
     },
     "metadata": {},
     "output_type": "display_data"
    },
    {
     "data": {
      "image/png": "[encoded data removed]",
      "text/plain": [
       "<Figure size 640x480 with 1 Axes>"
      ]
     },
     "metadata": {},
     "output_type": "display_data"
    }
   ],
   "source": [
    "visualize_q2a_data(1)\n",
    "visualize_q2a_data(2)"
   ]
  },
  {
   "cell_type": "markdown",
   "metadata": {
    "id": "50WsEzhx4Uua"
   },
   "source": [
    "## Part (a) PixelCNN on Shapes and MNIST\n",
    "In this part, implement a simple PixelCNN architecture to model binary MNIST and shapes images (same as Q2(b), but with a PixelCNN).\n",
    "\n",
    "We recommend the following network design:\n",
    "* A $7 \\times 7$ masked type A convolution\n",
    "* $5$ $7 \\times 7$ masked type B convolutions\n",
    "* $2$ $1 \\times 1$ masked type B convolutions\n",
    "* Appropriate ReLU nonlinearities in-between\n",
    "* 64 convolutional filters\n",
    "\n",
    "And the following hyperparameters:\n",
    "* Batch size 128\n",
    "* Learning rate $10^{-3}$\n",
    "* 10 epochs\n",
    "* Adam Optimizer (this applies to all PixelCNN models trained in future parts)\n",
    "\n",
    "Your model should output logits, after which you could apply a sigmoid over 1 logit, or a softmax over two logits (either is fine). It may also help to scale your input to $[-1, 1]$ before running it through the network. \n",
    "\n",
    "Training on the shapes dataset should be quick, and MNIST should take around 10 minutes\n",
    "\n",
    "Checkout the Paper for more details: https://arxiv.org/abs/1601.06759\n",
    "\n",
    "**You will provide these deliverables**\n",
    "\n",
    "\n",
    "1.   Over the course of training, record the average negative log-likelihood (nats / dim) of the training data (per minibatch) and test data (for your entire test set). Code is provided that automatically plots the training curves. \n",
    "2.   Report the final test set performance of your final model\n",
    "3. 100 samples from the final trained model\n",
    "\n"
   ]
  },
  {
   "cell_type": "markdown",
   "metadata": {
    "id": "EleefdNuciyc"
   },
   "source": [
    "Fill out the function below and return the necessary arguments. Feel free to create more cells if need be."
   ]
  },
  {
   "cell_type": "code",
   "execution_count": 11,
   "metadata": {},
   "outputs": [],
   "source": [
    "class PixelCNN(nn.Module):\n",
    "    \"\"\"\n",
    "    PixelCNN model with masked convolutions\n",
    "    \"\"\"\n",
    "    def __init__(self, image_shape, dset_id):\n",
    "        super(PixelCNN, self).__init__()\n",
    "        self.image_shape = image_shape\n",
    "        self.dset_id = dset_id\n",
    "        \n",
    "        # Number of input channels (1 for MNIST and shapes)\n",
    "        in_channels = 3\n",
    "        \n",
    "        # Number of filters as specified in the assignment\n",
    "        n_filters = 120\n",
    "        \n",
    "        # Define the model layers\n",
    "        # First layer: 7x7 masked type A convolution\n",
    "        self.conv_A = MaskedConv2d('A', in_channels, n_filters, 7, padding=3, bias=True)\n",
    "\n",
    "        # 8 layers of 7x7 masked type B convolutions\n",
    "        self.residual_layers = nn.ModuleList([\n",
    "            ResidualBlock(n_filters, image_shape)\n",
    "            for _ in range(8)\n",
    "        ])\n",
    "        \n",
    "        # 2 layers of 1x1 masked type B convolutions\n",
    "        self.conv_B_1x1_layers = nn.ModuleList([\n",
    "            MaskedConv2d('B', n_filters, n_filters, 1, padding=0, bias=True)\n",
    "            for _ in range(2)\n",
    "        ])\n",
    "        \n",
    "        # Output 4 logits for each of the 3 color channels\n",
    "        self.output_conv = nn.Conv2d(n_filters, 4*3, 1, padding=0, bias=True)\n",
    "        \n",
    "        # ReLU activation\n",
    "        self.relu = nn.ReLU()\n",
    "\n",
    "    def forward(self, x):\n",
    "        # Apply first mask A convolution\n",
    "        x = x.float()\n",
    "        x = self.relu(self.conv_A(x))\n",
    "        \n",
    "        # Apply mask B convolutions with ReLU activations\n",
    "        for layer in self.residual_layers:\n",
    "            x  = layer(x)\n",
    "        \n",
    "        # Apply 1x1 mask B convolutions with ReLU activations\n",
    "        for layer in self.conv_B_1x1_layers:\n",
    "            x = self.relu(layer(x))\n",
    "\n",
    "        \n",
    "        # Apply final convolution to get logits\n",
    "        x = self.output_conv(x)\n",
    "\n",
    "\n",
    "        batch_size, _, height, width = x.shape\n",
    "        x = x.view(batch_size, 3,4,  height, width) \n",
    "        \n",
    "        return x\n",
    "\n",
    "\n",
    "class MaskedConv2d(nn.Conv2d):\n",
    "    \"\"\"\n",
    "    Implementation of Masked Convolution for PixelCNN with RGB support\n",
    "    \"\"\"\n",
    "    def __init__(self, mask_type, *args, **kwargs):\n",
    "        super(MaskedConv2d, self).__init__(*args, **kwargs)\n",
    "        assert mask_type in ['A', 'B']\n",
    "        self.mask_type = mask_type\n",
    "        self.register_buffer('mask', self.create_mask())\n",
    "    \n",
    "    def create_mask(self):\n",
    "        k_height, k_width = self.kernel_size\n",
    "        in_channels, out_channels = self.in_channels, self.out_channels\n",
    "        \n",
    "        # Create mask tensor\n",
    "        mask = torch.ones(out_channels, in_channels, k_height, k_width)\n",
    "        \n",
    "        # Center of the kernel\n",
    "        center_h, center_w = k_height // 2, k_width // 2\n",
    "        \n",
    "        # For each output channel\n",
    "        for o in range(out_channels):\n",
    "            # For each input channel\n",
    "            for i in range(in_channels):\n",
    "                # Mask everything after the center row\n",
    "                mask[o, i, center_h+1:, :] = 0\n",
    "                # Mask everything after the center in the center row\n",
    "                mask[o, i, center_h, center_w+1:] = 0\n",
    "                \n",
    "                # Handle RGB channel dependencies\n",
    "                if self.mask_type == 'A':\n",
    "                    # In A-type mask, mask the center for all channels\n",
    "                    mask[o, i, center_h, center_w] = 0\n",
    "                elif self.mask_type == 'B':\n",
    "                    # In B-type mask:\n",
    "                    # If output channel is R, it can only see previous R pixels\n",
    "                    if o % 3 == 0 and i % 3 != 0:\n",
    "                        mask[o, i, center_h, center_w] = 0\n",
    "                    # If output channel is G, it can see current R and previous G\n",
    "                    elif o % 3 == 1 and i % 3 == 2:\n",
    "                        mask[o, i, center_h, center_w] = 0\n",
    "                    # If output channel is B, it can see current R, G and previous B\n",
    "                    # No additional masking needed for B\n",
    "                \n",
    "        return mask\n",
    "    \n",
    "\n",
    "class ResidualBlock(nn.Module):\n",
    "    def __init__(self, n_filters, image_shape=None):\n",
    "        super(ResidualBlock, self).__init__()\n",
    "        # layer nornalization \n",
    "        H, W, _ = image_shape if image_shape is not None else (20, 20, 3)\n",
    "\n",
    "        self.layer_norm1 = nn.LayerNorm([n_filters , H, W])\n",
    "        self.layer_norm2 = nn.LayerNorm([n_filters//2 , H, W])\n",
    "        self.layer_norm3 = nn.LayerNorm([n_filters//2 , H, W])\n",
    "\n",
    "        # Main path\n",
    "        self.conv1 = nn.Conv2d(n_filters, n_filters//2, kernel_size=1, padding=0, bias=True)\n",
    "        self.conv2 = MaskedConv2d('B', n_filters//2, n_filters//2, kernel_size=7, padding=3, bias=True)\n",
    "        self.conv3 = nn.Conv2d(n_filters//2, n_filters, kernel_size=1, padding=0, bias=True)\n",
    "\n",
    "\n",
    "        self.relu = nn.ReLU(inplace=True)\n",
    "        \n",
    "    def forward(self, x):\n",
    "        # Store input for the skip connection\n",
    "        identity = x\n",
    "        \n",
    "        # Main path\n",
    "        out = self.layer_norm1(x)\n",
    "        out = self.relu(out)\n",
    "        out = self.conv1(out)\n",
    "        \n",
    "        out = self.layer_norm2(out)\n",
    "        out = self.relu(out)\n",
    "        out = self.conv2(out)\n",
    "        \n",
    "        out = self.layer_norm3(out)\n",
    "        out = self.relu(out)   \n",
    "        out = self.conv3(out)\n",
    "\n",
    "        # Skip connection\n",
    "        out += identity        \n",
    "        return out"
   ]
  },
  {
   "cell_type": "code",
   "execution_count": 12,
   "metadata": {
    "id": "NWualafa-tpD"
   },
   "outputs": [],
   "source": [
    "def q2_a(train_data, test_data, image_shape, dset_id):\n",
    "    \"\"\"\n",
    "    PixelCNN training and sampling function\n",
    "    \n",
    "    Args:\n",
    "        train_data: A (n_train, H, W, 1) uint8 numpy array of binary images with values in {0, 1}\n",
    "        test_data: A (n_test, H, W, 1) uint8 numpy array of binary images with values in {0, 1}\n",
    "        image_shape: (H, W), height and width of the image\n",
    "        dset_id: Dataset identifier (1 or 2)\n",
    "        \n",
    "    Returns:\n",
    "        train_losses: numpy array of losses per minibatch\n",
    "        test_losses: numpy array of losses per epoch\n",
    "        samples: 100 generated samples\n",
    "    \"\"\"\n",
    "    # Log information about the dataset\n",
    "    print(\"train_data shape:\", train_data.shape)\n",
    "    print(\"test_data shape:\", test_data.shape)\n",
    "    print(\"image_shape:\", image_shape)\n",
    "    \n",
    "    # Set hyperparameters as specified in the assignment\n",
    "    batch_size = 128\n",
    "    learning_rate = 1e-3\n",
    "    num_epochs = 10\n",
    "    device = torch.device('cuda' if torch.cuda.is_available() else 'cpu')\n",
    "    print(f\"Using device: {device}\")\n",
    "    \n",
    "    # Convert data to torch tensors and scale to [-1, 1]\n",
    "    # PyTorch expects shape (N, C, H, W) but our data is (N, H, W, C)\n",
    "    train_data_tensor = torch.FloatTensor(train_data).permute(0, 3, 1, 2)  # Move channel dim to position 1\n",
    "    test_data_tensor = torch.FloatTensor(test_data).permute(0, 3, 1, 2)\n",
    "    \n",
    "    # Create data loaders for efficient batching\n",
    "    train_dataset = torch.utils.data.TensorDataset(train_data_tensor)\n",
    "    test_dataset = torch.utils.data.TensorDataset(test_data_tensor)\n",
    "    \n",
    "    train_loader = torch.utils.data.DataLoader(\n",
    "        train_dataset, batch_size=batch_size, shuffle=True, \n",
    "        num_workers=2, pin_memory=(device.type == 'cuda')\n",
    "    )\n",
    "    test_loader = torch.utils.data.DataLoader(\n",
    "        test_dataset, batch_size=batch_size, shuffle=False, \n",
    "        num_workers=2, pin_memory=(device.type == 'cuda')\n",
    "    )\n",
    "    \n",
    "    # Initialize model and optimizer\n",
    "    model = PixelCNN(image_shape, dset_id).to(device)\n",
    "    optimizer = torch.optim.Adam(model.parameters(), lr=learning_rate)\n",
    "    \n",
    "    # Arrays to store losses\n",
    "    train_losses = []\n",
    "    test_losses = []\n",
    "    \n",
    "    # Initial test loss\n",
    "    init_test_loss = evaluate_model(model, test_loader, device)\n",
    "    test_losses.append(init_test_loss)\n",
    "    print(f\"Initial test loss: {init_test_loss:.6f}\")\n",
    "    \n",
    "    # Training loop\n",
    "    for epoch in range(num_epochs):\n",
    "        model.train()\n",
    "        epoch_train_losses = []\n",
    "        \n",
    "        for batch_idx, (data,) in enumerate(train_loader):\n",
    "            # Move data to device\n",
    "            data = data.to(device)\n",
    "            \n",
    "            # Forward pass\n",
    "            optimizer.zero_grad()\n",
    "            logits = model(data)\n",
    "            \n",
    "            # Calculate binary cross entropy loss\n",
    "            # For binary data, we calculate p(x) for 0/1 values\n",
    "            loss = F.binary_cross_entropy_with_logits(\n",
    "                logits, data, reduction='mean'\n",
    "            )\n",
    "            \n",
    "            # Backward pass and optimization\n",
    "            loss.backward()\n",
    "            \n",
    "            # Clip gradients to prevent explosion\n",
    "            torch.nn.utils.clip_grad_norm_(model.parameters(), 1.0)\n",
    "            \n",
    "            optimizer.step()\n",
    "            \n",
    "            # Record loss\n",
    "            loss_value = loss.item()\n",
    "            train_losses.append(loss_value)\n",
    "            epoch_train_losses.append(loss_value)\n",
    "            \n",
    "            # Print progress\n",
    "            if batch_idx % 10 == 0:\n",
    "                print(f'Epoch: {epoch+1}/{num_epochs}, Batch: {batch_idx}/{len(train_loader)}, '\n",
    "                      f'Loss: {loss_value:.6f}')\n",
    "        \n",
    "        # Calculate average training loss for this epoch\n",
    "        avg_train_loss = sum(epoch_train_losses) / len(epoch_train_losses)\n",
    "        print(f'Epoch {epoch+1} average training loss: {avg_train_loss:.6f}')\n",
    "        \n",
    "        # Evaluate on test set\n",
    "        test_loss = evaluate_model(model, test_loader, device)\n",
    "        test_losses.append(test_loss)\n",
    "        print(f'Epoch {epoch+1} test loss: {test_loss:.6f}')\n",
    "    \n",
    "    # Generate samples from the trained model\n",
    "    samples = generate_samples(model, 100, image_shape, device)\n",
    "    \n",
    "    return np.array(train_losses), np.array(test_losses), samples\n",
    "\n",
    "def evaluate_model(model, data_loader, device):\n",
    "    \"\"\"\n",
    "    Evaluate the model on a dataset\n",
    "    \n",
    "    Args:\n",
    "        model: PixelCNN model\n",
    "        data_loader: DataLoader for test data\n",
    "        device: Device to run evaluation on\n",
    "        \n",
    "    Returns:\n",
    "        Average loss (negative log-likelihood in nats)\n",
    "    \"\"\"\n",
    "    model.eval()\n",
    "    total_loss = 0.0\n",
    "    total_pixels = 0\n",
    "    \n",
    "    with torch.no_grad():\n",
    "        for (data,) in data_loader:\n",
    "            data = data.to(device)\n",
    "            batch_size = data.size(0)\n",
    "            \n",
    "            # Forward pass\n",
    "            logits = model(data)\n",
    "            \n",
    "            # Calculate binary cross entropy loss\n",
    "            loss = F.binary_cross_entropy_with_logits(\n",
    "                logits, data, reduction='sum'\n",
    "            )\n",
    "            \n",
    "            # Sum up loss (in nats)\n",
    "            total_loss += loss.item()\n",
    "            total_pixels += batch_size * data.size(2) * data.size(3)\n",
    "    \n",
    "    # Return average loss per pixel (nats/dim)\n",
    "    return total_loss / total_pixels\n",
    "\n",
    "def generate_samples(model, num_samples, image_shape, device):\n",
    "    \"\"\"\n",
    "    Generate samples from the model using ancestral sampling\n",
    "    \n",
    "    Args:\n",
    "        model: Trained PixelCNN model\n",
    "        num_samples: Number of samples to generate\n",
    "        image_shape: (H, W) image dimensions\n",
    "        device: Device to run sampling on\n",
    "        \n",
    "    Returns:\n",
    "        Numpy array of samples with shape (num_samples, H, W, 1)\n",
    "    \"\"\"\n",
    "    model.eval()\n",
    "    H, W = image_shape\n",
    "    \n",
    "    # Start with all zeros (or random initialization between 0-1)\n",
    "    samples = torch.zeros(num_samples, 1, H, W, device=device)\n",
    "    \n",
    "    # Generate each pixel sequentially in raster scan order\n",
    "    with torch.no_grad():\n",
    "        for h in range(H):\n",
    "            for w in range(W):\n",
    "                # Get logits from model for current pixel\n",
    "                logits = model(samples)[:, 0, h, w]\n",
    "                \n",
    "                # Convert logits to probabilities\n",
    "                probs = torch.sigmoid(logits)\n",
    "                \n",
    "                # Sample from Bernoulli distribution\n",
    "                pixel_samples = torch.bernoulli(probs)\n",
    "                \n",
    "                # Update the samples with the new pixel values\n",
    "                samples[:, 0, h, w] = pixel_samples\n",
    "    \n",
    "    # Convert to numpy and reshape to (N, H, W, 1)\n",
    "    samples_np = samples.cpu().numpy().transpose(0, 2, 3, 1)\n",
    "    \n",
    "    return samples_np"
   ]
  },
  {
   "cell_type": "markdown",
   "metadata": {
    "id": "v0EPVfz1cpq0"
   },
   "source": [
    "### Results\n",
    "\n",
    "Once you've implemented `q2_a`, execute the cells below to visualize and save your results\n",
    "\n"
   ]
  },
  {
   "cell_type": "code",
   "execution_count": 13,
   "metadata": {
    "colab": {
     "base_uri": "https://localhost:8080/",
     "height": 559
    },
    "id": "xNxXqVZpAd_V",
    "outputId": "e2b74bd6-fde3-41f3-9e3a-e24a8cdee92e"
   },
   "outputs": [],
   "source": [
    "# q2a_save_results(1, q2_a)"
   ]
  },
  {
   "cell_type": "code",
   "execution_count": 14,
   "metadata": {
    "colab": {
     "base_uri": "https://localhost:8080/",
     "height": 559
    },
    "id": "OCyQzhJdAfiJ",
    "outputId": "1bf0668e-43b8-457c-db3b-7ea970af4777"
   },
   "outputs": [],
   "source": [
    "# q2a_save_results(2, q2_a)"
   ]
  },
  {
   "cell_type": "markdown",
   "metadata": {
    "id": "8J7qlqlODNgL"
   },
   "source": [
    "## Part (b) PixelCNN on Colored Shapes and MNIST: Independent Color Channels\n",
    "\n",
    "For the next part, we'll work with color images (shapes and MNIST). Run the cell below to visualize the dataset."
   ]
  },
  {
   "cell_type": "code",
   "execution_count": 15,
   "metadata": {
    "colab": {
     "base_uri": "https://localhost:8080/",
     "height": 511
    },
    "id": "80f_7uZWkDSv",
    "outputId": "61dde7b4-00aa-49e0-bbd3-96bd19f8f8bf"
   },
   "outputs": [
    {
     "data": {
      "image/png": "[encoded data removed]",
      "text/plain": [
       "<Figure size 640x480 with 1 Axes>"
      ]
     },
     "metadata": {},
     "output_type": "display_data"
    },
    {
     "data": {
      "image/png": "[encoded data removed]",
      "text/plain": [
       "<Figure size 640x480 with 1 Axes>"
      ]
     },
     "metadata": {},
     "output_type": "display_data"
    }
   ],
   "source": [
    "visualize_q2b_data(1)\n",
    "visualize_q2b_data(2)"
   ]
  },
  {
   "cell_type": "markdown",
   "metadata": {
    "id": "3Y6NggR6gmU9"
   },
   "source": [
    "Now, implement a PixelCNN to support RGB color channels (or augment your existing implementation). **First, implement a PixelCNN that assumes color channels as independent.** More formally, we model the following parameterized distribution:\n",
    "\n",
    "$$p_\\theta(x) = \\prod_{i=1}^{HW}\\prod_{c=1}^C p_\\theta(x_i^c | x_{<i})$$\n",
    "\n",
    "Here are some tips that you may find useful for designing and training these models:\n",
    "* You will need a 4-way softmax for every prediction, as opposed to a 256-way softmax in the PixelCNN paper, since the dataset is quantized to two bits per color channel\n",
    "* You can set the number of filters for each convolutions to 120. You can use the ReLU nonlinearity throughout.\n",
    "* Use a stack of 8 residual block architecture from [Figure 5](https://arxiv.org/abs/1601.06759) but with 7 x 7 masked convolutions in the middle instead of 3 x 3 masked convolutions\n",
    "* Consider using [layer normalization](https://arxiv.org/abs/1607.06450) to improve performance. However, be careful to maintain the autoregressive property.\n",
    "* With a learning rate of $10^{-3}$ and a batch size of 128, it should take a few minutes to run on the shapes dataset, and about 50-60 minutes on MNIST.\n",
    "\n",
    "**You will provide these deliverables**\n",
    "\n",
    "\n",
    "1.   Over the course of training, record the average negative log-likelihood (nats / dim) of the training data (per minibatch) and test data (for your entire test set). Code is provided that automatically plots the training curves. \n",
    "2.   Report the final test set performance of your final model\n",
    "3. 100 samples from the final trained model\n",
    "\n"
   ]
  },
  {
   "cell_type": "markdown",
   "metadata": {
    "id": "GwJQG9i1iQOa"
   },
   "source": [
    "Fill out the function below and return the necessary arguments. Feel free to create more cells if need be."
   ]
  },
  {
   "cell_type": "code",
   "execution_count": 16,
   "metadata": {},
   "outputs": [],
   "source": [
    "class PixelCNN(nn.Module):\n",
    "    \"\"\"\n",
    "    PixelCNN model with masked convolutions\n",
    "    \"\"\"\n",
    "    def __init__(self, image_shape, dset_id):\n",
    "        super(PixelCNN, self).__init__()\n",
    "        self.image_shape = image_shape\n",
    "        self.dset_id = dset_id\n",
    "        \n",
    "        # Number of input channels (1 for MNIST and shapes)\n",
    "        in_channels = 3\n",
    "        \n",
    "        # Number of filters as specified in the assignment\n",
    "        n_filters = 120\n",
    "        \n",
    "        # First layer: 7x7 masked type A convolution\n",
    "        self.conv_A = MaskedConv2d('A', in_channels, n_filters, 7, padding=3, bias=True)\n",
    "\n",
    "        # 8 layers of 7x7 masked type B convolutions\n",
    "        self.residual_layers = nn.ModuleList([\n",
    "            ResidualBlock(n_filters, image_shape)\n",
    "            for _ in range(8)\n",
    "        ])\n",
    "        \n",
    "        # 2 layers of 1x1 masked type B convolutions\n",
    "        self.conv_B_1x1_layers = nn.ModuleList([\n",
    "            MaskedConv2d('B', n_filters, n_filters, 1, padding=0, bias=True)\n",
    "            for _ in range(2)\n",
    "        ])\n",
    "        \n",
    "        # Output 4 logits for each of the 3 color channels\n",
    "        self.output_conv = nn.Conv2d(n_filters, 4*3, 1, padding=0, bias=True)\n",
    "        \n",
    "        # ReLU activation\n",
    "        self.relu = nn.ReLU()\n",
    "\n",
    "    def forward(self, x):\n",
    "        # Apply first mask A convolution\n",
    "        x = x.float()\n",
    "        x = self.relu(self.conv_A(x))\n",
    "        \n",
    "        # Apply mask B convolutions with ReLU activations\n",
    "        for layer in self.residual_layers:\n",
    "            x  = layer(x)\n",
    "        \n",
    "        # Apply 1x1 mask B convolutions with ReLU activations\n",
    "        for layer in self.conv_B_1x1_layers:\n",
    "            x = self.relu(layer(x))\n",
    "\n",
    "        \n",
    "        # Apply final convolution to get logits\n",
    "        x = self.output_conv(x)\n",
    "\n",
    "\n",
    "        batch_size, _, height, width = x.shape\n",
    "        x = x.view(batch_size, 3,4,  height, width) \n",
    "        \n",
    "        return x\n",
    "\n",
    "\n",
    "class MaskedConv2d(nn.Conv2d):\n",
    "    \"\"\"\n",
    "    Implementation of Masked Convolution for PixelCNN with RGB support\n",
    "    \"\"\"\n",
    "    def __init__(self, mask_type, *args, **kwargs):\n",
    "        super(MaskedConv2d, self).__init__(*args, **kwargs)\n",
    "        assert mask_type in ['A', 'B']\n",
    "        self.mask_type = mask_type\n",
    "        self.register_buffer('mask', self.create_mask())\n",
    "    \n",
    "    def create_mask(self):\n",
    "        k_height, k_width = self.kernel_size\n",
    "        in_channels, out_channels = self.in_channels, self.out_channels\n",
    "        \n",
    "        # Create mask tensor\n",
    "        mask = torch.ones(out_channels, in_channels, k_height, k_width)\n",
    "        \n",
    "        # Center of the kernel\n",
    "        center_h, center_w = k_height // 2, k_width // 2\n",
    "        \n",
    "        # For each output channel\n",
    "        for o in range(out_channels):\n",
    "            # For each input channel\n",
    "            for i in range(in_channels):\n",
    "                # Mask everything after the center row\n",
    "                mask[o, i, center_h+1:, :] = 0\n",
    "                # Mask everything after the center in the center row\n",
    "                mask[o, i, center_h, center_w+1:] = 0\n",
    "                \n",
    "                # Handle RGB channel dependencies\n",
    "                if self.mask_type == 'A':\n",
    "                    # In A-type mask, mask the center for all channels\n",
    "                    mask[o, i, center_h, center_w] = 0\n",
    "                elif self.mask_type == 'B':\n",
    "                    # In B-type mask:\n",
    "                    # If output channel is R, it can only see previous R pixels\n",
    "                    if o % 3 == 0 and i % 3 != 0:\n",
    "                        mask[o, i, center_h, center_w] = 0\n",
    "                    # If output channel is G, it can see current R and previous G\n",
    "                    elif o % 3 == 1 and i % 3 == 2:\n",
    "                        mask[o, i, center_h, center_w] = 0\n",
    "                    # If output channel is B, it can see current R, G and previous B\n",
    "                    # No additional masking needed for B\n",
    "                \n",
    "        return mask\n",
    "    \n",
    "\n",
    "class ResidualBlock(nn.Module):\n",
    "    def __init__(self, n_filters, image_shape=None):\n",
    "        super(ResidualBlock, self).__init__()\n",
    "        # layer nornalization \n",
    "        H, W, _ = image_shape if image_shape is not None else (20, 20, 3)\n",
    "\n",
    "        self.layer_norm1 = nn.LayerNorm([n_filters , H, W])\n",
    "        self.layer_norm2 = nn.LayerNorm([n_filters , H, W])\n",
    "        self.layer_norm3 = nn.LayerNorm([n_filters , H, W])\n",
    "\n",
    "        # Main path\n",
    "        self.conv1 = nn.Conv2d(n_filters, n_filters, kernel_size=1, padding=0, bias=True)\n",
    "        self.conv2 = MaskedConv2d('B', n_filters, n_filters, kernel_size=7, padding=3, bias=True)\n",
    "        self.conv3 = nn.Conv2d(n_filters, n_filters, kernel_size=1, padding=0, bias=True)\n",
    "\n",
    "\n",
    "        self.relu = nn.ReLU()\n",
    "        \n",
    "    def forward(self, x):\n",
    "        # Store input for the skip connection\n",
    "        identity = x\n",
    "        \n",
    "        # Main path\n",
    "        out = self.layer_norm1(x)\n",
    "        out = self.relu(out)\n",
    "        out = self.conv1(out)\n",
    "        \n",
    "        out = self.layer_norm2(out)\n",
    "        out = self.relu(out)\n",
    "        out = self.conv2(out)\n",
    "        \n",
    "        out = self.layer_norm3(out)\n",
    "        out = self.relu(out)   \n",
    "        out = self.conv3(out)\n",
    "\n",
    "        # Skip connection\n",
    "        out += identity        \n",
    "        return out"
   ]
  },
  {
   "cell_type": "code",
   "execution_count": 17,
   "metadata": {},
   "outputs": [],
   "source": [
    "def compute_loss(logits, targets):\n",
    "    \"\"\"\n",
    "    Compute cross-entropy loss for the PixelCNN model.\n",
    "    \n",
    "    Args:\n",
    "        logits: Tensor of shape [batch_size, C, 4, H, W] - model predictions\n",
    "        targets: Tensor of shape [batch_size, C, H, W] - ground truth values\n",
    "        \n",
    "    Returns:\n",
    "        Average cross-entropy loss\n",
    "    \"\"\"\n",
    "    logits_reshaped = logits.permute(0, 1, 3, 4, 2).reshape(-1, 4)\n",
    "    targets_reshaped = targets.reshape(-1).long()\n",
    "    return F.cross_entropy(logits_reshaped, targets_reshaped)\n",
    "\n",
    "\n",
    "def evaluate_model(model, data_loader, device):\n",
    "    \"\"\"\n",
    "    Evaluate the model on a dataset\n",
    "    \"\"\"\n",
    "    model.eval()\n",
    "    total_loss = 0.0\n",
    "    total_batches = 0\n",
    "    \n",
    "    with torch.no_grad():\n",
    "        for (data,) in data_loader:\n",
    "            data = data.to(device)\n",
    "            total_batches += 1\n",
    "            \n",
    "            logits = model(data)\n",
    "            loss = compute_loss(logits, data)\n",
    "            total_loss += loss.item()\n",
    "    \n",
    "    return total_loss / total_batches\n",
    "\n",
    "\n",
    "def generate_samples(model, num_samples, image_shape, device):\n",
    "    \"\"\"\n",
    "    Generate samples from the model using ancestral sampling.\n",
    "    Assumes the model expects float inputs representing integer values {0, 1, 2, 3}.\n",
    "    \"\"\"\n",
    "    model.eval()\n",
    "    H, W, C = image_shape\n",
    "    \n",
    "    # Initialize samples tensor with float type, as the model likely expects float inputs\n",
    "    # even though the values represent discrete levels.\n",
    "    samples = torch.zeros(num_samples, C, H, W, dtype=torch.float, device=device)\n",
    "    \n",
    "    with torch.no_grad():\n",
    "        for h in range(H):\n",
    "            for w in range(W):\n",
    "                for c in range(C):\n",
    "                    # Pass the current state of samples to the model\n",
    "                    # Ensure the model's forward pass handles float inputs correctly\n",
    "                    logits = model(samples) \n",
    "                    \n",
    "                    # Extract the logits for the current pixel and channel\n",
    "                    # Logits shape: [batch_size, num_classes (4), C, H, W] -> need to adjust indexing if C is first\n",
    "                    # Assuming model output is [batch_size, C, num_classes (4), H, W] based on compute_loss permute\n",
    "                    # Let's re-check compute_loss: logits.permute(0, 1, 3, 4, 2).reshape(-1, 4)\n",
    "                    # Original logits shape: [batch_size, C, 4, H, W] -> Correct\n",
    "                    pixel_logits = logits[:, c, :, h, w] # Shape: [num_samples, 4]\n",
    "                    \n",
    "                    # Convert logits to probabilities\n",
    "                    probs = F.softmax(pixel_logits, dim=1)\n",
    "                    \n",
    "                    # Sample from the distribution\n",
    "                    # multinomial expects probabilities, returns indices (0, 1, 2, or 3)\n",
    "                    pixel_samples = torch.multinomial(probs, 1).squeeze(-1) # Shape: [num_samples]\n",
    "                    \n",
    "                    # Update the samples tensor with the sampled integer value, cast to float\n",
    "                    samples[:, c, h, w] = pixel_samples.float() \n",
    "    \n",
    "    # Convert samples back to the typical image format (batch, H, W, C) and to numpy\n",
    "    # The values will be floats (0.0, 1.0, 2.0, 3.0), convert to int if needed downstream\n",
    "    samples_np = samples.cpu().numpy().transpose(0, 2, 3, 1) \n",
    "    \n",
    "    # Optional: Convert to uint8 if required by subsequent code/visualization\n",
    "    samples_np = samples_np.astype(np.uint8) \n",
    "    \n",
    "    return samples_np"
   ]
  },
  {
   "cell_type": "code",
   "execution_count": 18,
   "metadata": {},
   "outputs": [],
   "source": [
    "def q2_b(train_data, test_data, image_shape, dset_id):\n",
    "    \"\"\"\n",
    "    Trains a PixelCNN model for RGB images with 4 possible values per channel.\n",
    "    \n",
    "    Args:\n",
    "        train_data: A (n_train, H, W, C) uint8 numpy array of color images with values in {0, 1, 2, 3}\n",
    "        test_data: A (n_test, H, W, C) uint8 numpy array of color images with values in {0, 1, 2, 3}\n",
    "        image_shape: (H, W, C), height, width, and # of channels of the image\n",
    "        dset_id: An identifying number of which dataset is given (1 or 2)\n",
    "                 Used to set different hyperparameters for different datasets\n",
    "\n",
    "    Returns:\n",
    "        - train_losses: A (# of training iterations,) numpy array of per-batch training losses\n",
    "        - test_losses: A (# of epochs + 1,) numpy array of test losses after each epoch (including initialization)\n",
    "        - samples: A (100, H, W, C) numpy array of generated samples with values in {0, 1, 2, 3}\n",
    "    \"\"\" \n",
    "    # Hyperparameters\n",
    "    batch_size = 1024\n",
    "    learning_rate = 0.001\n",
    "    num_epochs = 20\n",
    "    \n",
    "    device = torch.device('cuda' if torch.cuda.is_available() else 'cpu')\n",
    "    print(f\"Using device: {device}\")\n",
    "    \n",
    "    # Data preparation\n",
    "    train_data_tensor = torch.FloatTensor(train_data).permute(0, 3, 1, 2)\n",
    "    test_data_tensor = torch.FloatTensor(test_data).permute(0, 3, 1, 2)\n",
    "    \n",
    "    train_dataset = torch.utils.data.TensorDataset(train_data_tensor)\n",
    "    test_dataset = torch.utils.data.TensorDataset(test_data_tensor)\n",
    "    \n",
    "    train_loader = torch.utils.data.DataLoader(\n",
    "        train_dataset, \n",
    "        batch_size=batch_size, \n",
    "        shuffle=True, \n",
    "        num_workers=2, \n",
    "        pin_memory=(device.type == 'cuda')\n",
    "    )\n",
    "    \n",
    "    test_loader = torch.utils.data.DataLoader(\n",
    "        test_dataset, \n",
    "        batch_size=batch_size, \n",
    "        shuffle=False, \n",
    "        num_workers=2, \n",
    "        pin_memory=(device.type == 'cuda')\n",
    "    )\n",
    "    \n",
    "    # Model initialization\n",
    "    model = PixelCNN(image_shape, dset_id).to(device)\n",
    "    optimizer = torch.optim.Adam(model.parameters(), lr=learning_rate)\n",
    "    \n",
    "    # Loss tracking\n",
    "    train_losses = []\n",
    "    test_losses = []\n",
    "    \n",
    "    # Initial evaluation\n",
    "    init_test_loss = evaluate_model(model, test_loader, device)\n",
    "    test_losses.append(init_test_loss)\n",
    "    print(f\"Initial test loss: {init_test_loss:.6f}\")\n",
    "    \n",
    "    # Training loop\n",
    "    for epoch in range(num_epochs):\n",
    "        model.train()\n",
    "        epoch_train_losses = []\n",
    "        \n",
    "        for batch_idx, (data,) in enumerate(train_loader):\n",
    "            data = data.to(device)\n",
    "            optimizer.zero_grad()\n",
    "            \n",
    "            logits = model(data)\n",
    "            loss = compute_loss(logits, data)\n",
    "            \n",
    "            loss.backward()\n",
    "            torch.nn.utils.clip_grad_norm_(model.parameters(), 1.0)\n",
    "            optimizer.step()\n",
    "            \n",
    "            loss_value = loss.item()\n",
    "            train_losses.append(loss_value)\n",
    "            epoch_train_losses.append(loss_value)\n",
    "            \n",
    "            if batch_idx % 10 == 0:\n",
    "                print(f'Epoch: {epoch+1}/{num_epochs}, Batch: {batch_idx}/{len(train_loader)}, '\n",
    "                      f'Loss: {loss_value:.6f}')\n",
    "        \n",
    "        avg_train_loss = sum(epoch_train_losses) / len(epoch_train_losses)\n",
    "        print(f'Epoch {epoch+1} average training loss: {avg_train_loss:.6f}')\n",
    "        \n",
    "        test_loss = evaluate_model(model, test_loader, device)\n",
    "        test_losses.append(test_loss)\n",
    "        print(f'Epoch {epoch+1} test loss: {test_loss:.6f}')\n",
    "    \n",
    "    # Generate samples\n",
    "    samples = generate_samples(model, 100, image_shape, device)\n",
    "    \n",
    "    return np.array(train_losses), np.array(test_losses), samples\n",
    "\n",
    "\n"
   ]
  },
  {
   "cell_type": "code",
   "execution_count": 19,
   "metadata": {
    "id": "NE99xTPJDLM7"
   },
   "outputs": [],
   "source": [
    "def q2_b(train_data, test_data, image_shape, dset_id):\n",
    "    \"\"\"\n",
    "    Trains a PixelCNN model for RGB images with 4 possible values per channel.\n",
    "    \n",
    "    Args:\n",
    "        train_data: A (n_train, H, W, C) uint8 numpy array of color images with values in {0, 1, 2, 3}\n",
    "        test_data: A (n_test, H, W, C) uint8 numpy array of color images with values in {0, 1, 2, 3}\n",
    "        image_shape: (H, W, C), height, width, and # of channels of the image\n",
    "        dset_id: An identifying number of which dataset is given (1 or 2)\n",
    "                 Used to set different hyperparameters for different datasets\n",
    "\n",
    "    Returns:\n",
    "        - train_losses: A (# of training iterations,) numpy array of per-batch training losses\n",
    "        - test_losses: A (# of epochs + 1,) numpy array of test losses after each epoch (including initialization)\n",
    "        - samples: A (100, H, W, C) numpy array of generated samples with values in {0, 1, 2, 3}\n",
    "    \"\"\" \n",
    "    # Hyperparameters\n",
    "    batch_size = 1024  # Increased for better GPU utilization\n",
    "    learning_rate = 0.001\n",
    "    num_epochs = 10\n",
    "    \n",
    "    device = torch.device('cuda' if torch.cuda.is_available() else 'cpu')\n",
    "    print(f\"Using device: {device}\")\n",
    "    \n",
    "    # Data preparation\n",
    "    train_data_tensor = torch.FloatTensor(train_data).permute(0, 3, 1, 2)\n",
    "    test_data_tensor = torch.FloatTensor(test_data).permute(0, 3, 1, 2)\n",
    "    \n",
    "    train_dataset = torch.utils.data.TensorDataset(train_data_tensor)\n",
    "    test_dataset = torch.utils.data.TensorDataset(test_data_tensor)\n",
    "    \n",
    "    train_loader = torch.utils.data.DataLoader(\n",
    "        train_dataset, \n",
    "        batch_size=batch_size, \n",
    "        shuffle=True, \n",
    "        num_workers=2, \n",
    "        pin_memory=(device.type == 'cuda')\n",
    "    )\n",
    "    \n",
    "    test_loader = torch.utils.data.DataLoader(\n",
    "        test_dataset, \n",
    "        batch_size=batch_size, \n",
    "        shuffle=False, \n",
    "        num_workers=2, \n",
    "        pin_memory=(device.type == 'cuda')\n",
    "    )\n",
    "    \n",
    "    # Model initialization\n",
    "    model = PixelCNN(image_shape, dset_id).to(device)\n",
    "    optimizer = torch.optim.Adam(model.parameters(), lr=learning_rate)\n",
    "    scheduler = torch.optim.lr_scheduler.ReduceLROnPlateau(\n",
    "        optimizer,\n",
    "        mode='min',        # Reduce LR when the monitored metric stops decreasing\n",
    "        factor=0.5,        # Multiply learning rate by this factor when reducing\n",
    "        patience=2,        # Number of epochs with no improvement after which LR will be reduced\n",
    "        verbose=True,      # Print message when LR is reduced\n",
    "        min_lr=1e-6        # Lower bound on the learning rate\n",
    "    )\n",
    "    \n",
    "    # Initialize gradient scaler for mixed precision training\n",
    "    scaler = torch.cuda.amp.GradScaler()\n",
    "\n",
    "    # Early stopping parameters\n",
    "    best_loss = float('inf')\n",
    "    best_model_state = None\n",
    "    patience = 5\n",
    "    patience_counter = 0\n",
    "\n",
    "    # Loss tracking\n",
    "    train_losses = []\n",
    "    test_losses = []\n",
    "    \n",
    "    # Initial evaluation\n",
    "    init_test_loss = evaluate_model(model, test_loader, device)\n",
    "    test_losses.append(init_test_loss)\n",
    "    print(f\"Initial test loss: {init_test_loss:.6f}\")\n",
    "    \n",
    "    # Training loop\n",
    "    for epoch in range(num_epochs):\n",
    "        model.train()\n",
    "        epoch_train_losses = []\n",
    "        \n",
    "        for batch_idx, (data,) in enumerate(train_loader):\n",
    "            data = data.to(device)\n",
    "            optimizer.zero_grad()\n",
    "            \n",
    "            # Use autocast for mixed precision training\n",
    "            with torch.cuda.amp.autocast():\n",
    "                logits = model(data)\n",
    "                loss = compute_loss(logits, data)\n",
    "\n",
    "            # Scale the loss and backpropagate\n",
    "            scaler.scale(loss).backward()\n",
    "            \n",
    "            # Gradient clipping\n",
    "            torch.nn.utils.clip_grad_norm_(model.parameters(), 0.5)  # Reduced from 1.0 for stability\n",
    "            \n",
    "            # Update weights with scaled gradients\n",
    "            scaler.step(optimizer)\n",
    "            scaler.update()\n",
    "            \n",
    "            loss_value = loss.item()\n",
    "            train_losses.append(loss_value)\n",
    "            epoch_train_losses.append(loss_value)\n",
    "            \n",
    "            if batch_idx % 10 == 0:\n",
    "                print(f'Epoch: {epoch+1}/{num_epochs}, Batch: {batch_idx}/{len(train_loader)}, '\n",
    "                      f'Loss: {loss_value:.6f}')\n",
    "        \n",
    "        avg_train_loss = sum(epoch_train_losses) / len(epoch_train_losses)\n",
    "        print(f'Epoch {epoch+1} average training loss: {avg_train_loss:.6f}')\n",
    "        \n",
    "        # Evaluate the model\n",
    "        test_loss = evaluate_model(model, test_loader, device)\n",
    "        test_losses.append(test_loss)\n",
    "        print(f'Epoch {epoch+1} test loss: {test_loss:.6f}')\n",
    "        \n",
    "        # Update learning rate based on test loss\n",
    "        scheduler.step(test_loss)\n",
    "        \n",
    "        # Print current learning rate (correct way for ReduceLROnPlateau)\n",
    "        print(f'Current learning rate: {optimizer.param_groups[0][\"lr\"]:.6f}')\n",
    "        \n",
    "        # Early stopping check\n",
    "        if test_loss < best_loss:\n",
    "            best_loss = test_loss\n",
    "            best_model_state = copy.deepcopy(model.state_dict())\n",
    "            patience_counter = 0\n",
    "            print(f\"New best model with test loss: {best_loss:.6f}\")\n",
    "        else:\n",
    "            patience_counter += 1\n",
    "            print(f\"No improvement for {patience_counter} epochs\")\n",
    "            \n",
    "        if patience_counter >= patience:\n",
    "            print(f\"Early stopping at epoch {epoch+1}\")\n",
    "            break\n",
    "    \n",
    "    # Load the best model for sampling\n",
    "    if best_model_state is not None:\n",
    "        model.load_state_dict(best_model_state)\n",
    "        print(f\"Loaded best model with test loss: {best_loss:.6f}\")\n",
    "    \n",
    "    # Generate samples with improved sampling\n",
    "    samples = generate_samples(model, 100, image_shape, device)\n",
    "    \n",
    "    return np.array(train_losses), np.array(test_losses), samples\n",
    "\n",
    "\n",
    "def evaluate_model(model, data_loader, device):\n",
    "    \"\"\"\n",
    "    Evaluate the model on a dataset\n",
    "    \"\"\"\n",
    "    model.eval()\n",
    "    total_loss = 0.0\n",
    "    total_batches = 0\n",
    "    \n",
    "    with torch.no_grad():\n",
    "        for (data,) in data_loader:\n",
    "            data = data.to(device)\n",
    "            total_batches += 1\n",
    "            \n",
    "            with torch.cuda.amp.autocast():  # Use autocast for evaluation too\n",
    "                logits = model(data)\n",
    "                loss = compute_loss(logits, data)\n",
    "                \n",
    "            total_loss += loss.item()\n",
    "    \n",
    "    return total_loss / total_batches\n"
   ]
  },
  {
   "cell_type": "markdown",
   "metadata": {
    "id": "mGp2OsLKiToN"
   },
   "source": [
    "### Results\n",
    "\n",
    "Once you've implemented `q2_b`, execute the cells below to visualize and save your results\n",
    "\n"
   ]
  },
  {
   "cell_type": "code",
   "execution_count": null,
   "metadata": {
    "colab": {
     "base_uri": "https://localhost:8080/",
     "height": 577
    },
    "id": "kW-k-59qJaKN",
    "outputId": "78b08f6a-12db-46b7-ac27-a07693a9cd09"
   },
   "outputs": [
    {
     "name": "stdout",
     "output_type": "stream",
     "text": [
      "Using device: cuda\n"
     ]
    },
    {
     "name": "stderr",
     "output_type": "stream",
     "text": [
      "/home/nghiaph/miniconda3/lib/python3.12/site-packages/torch/optim/lr_scheduler.py:28: UserWarning: The verbose parameter is deprecated. Please use get_last_lr() to access the learning rate.\n",
      "  warnings.warn(\"The verbose parameter is deprecated. Please use get_last_lr() \"\n",
      "/home/nghiaph/miniconda3/lib/python3.12/site-packages/torch/nn/modules/conv.py:456: UserWarning: Plan failed with a cudnnException: CUDNN_BACKEND_EXECUTION_PLAN_DESCRIPTOR: cudnnFinalize Descriptor Failed cudnn_status: CUDNN_STATUS_NOT_SUPPORTED (Triggered internally at ../aten/src/ATen/native/cudnn/Conv_v8.cpp:919.)\n",
      "  return F.conv2d(input, weight, bias, self.stride,\n"
     ]
    },
    {
     "name": "stdout",
     "output_type": "stream",
     "text": [
      "Initial test loss: 1.384137\n",
      "Epoch: 1/10, Batch: 0/11, Loss: 1.385553\n",
      "Epoch: 1/10, Batch: 10/11, Loss: 0.931256\n",
      "Epoch 1 average training loss: 1.160921\n",
      "Epoch 1 test loss: 0.900067\n",
      "Current learning rate: 0.001000\n",
      "New best model with test loss: 0.900067\n",
      "Epoch: 2/10, Batch: 0/11, Loss: 0.897144\n",
      "Epoch: 2/10, Batch: 10/11, Loss: 0.607981\n",
      "Epoch 2 average training loss: 0.730295\n",
      "Epoch 2 test loss: 0.571699\n",
      "Current learning rate: 0.001000\n",
      "New best model with test loss: 0.571699\n",
      "Epoch: 3/10, Batch: 0/11, Loss: 0.562103\n",
      "Epoch: 3/10, Batch: 10/11, Loss: 0.405653\n",
      "Epoch 3 average training loss: 0.485380\n",
      "Epoch 3 test loss: 0.407211\n",
      "Current learning rate: 0.001000\n",
      "New best model with test loss: 0.407211\n",
      "Epoch: 4/10, Batch: 0/11, Loss: 0.406239\n",
      "Epoch: 4/10, Batch: 10/11, Loss: 0.281941\n",
      "Epoch 4 average training loss: 0.338410\n"
     ]
    }
   ],
   "source": [
    "q2b_save_results(1, 'b', q2_b)"
   ]
  },
  {
   "cell_type": "code",
   "execution_count": null,
   "metadata": {
    "colab": {
     "base_uri": "https://localhost:8080/",
     "height": 577
    },
    "id": "It_iPXaZjlk0",
    "outputId": "3ba138b1-71c9-4f67-8413-b5ef23db8204"
   },
   "outputs": [
    {
     "name": "stdout",
     "output_type": "stream",
     "text": [
      "Using device: cuda\n"
     ]
    },
    {
     "name": "stdout",
     "output_type": "stream",
     "text": [
      "Initial test loss: 1.991423\n",
      "Epoch: 1/10, Batch: 0/59, Loss: 1.991254\n"
     ]
    },
    {
     "ename": "OutOfMemoryError",
     "evalue": "CUDA out of memory. Tried to allocate 184.00 MiB. GPU ",
     "output_type": "error",
     "traceback": [
      "\u001b[0;31m---------------------------------------------------------------------------\u001b[0m",
      "\u001b[0;31mOutOfMemoryError\u001b[0m                          Traceback (most recent call last)",
      "Cell \u001b[0;32mIn[78], line 1\u001b[0m\n\u001b[0;32m----> 1\u001b[0m \u001b[43mq2b_save_results\u001b[49m\u001b[43m(\u001b[49m\u001b[38;5;241;43m2\u001b[39;49m\u001b[43m,\u001b[49m\u001b[43m \u001b[49m\u001b[38;5;124;43m'\u001b[39;49m\u001b[38;5;124;43mb\u001b[39;49m\u001b[38;5;124;43m'\u001b[39;49m\u001b[43m,\u001b[49m\u001b[43m \u001b[49m\u001b[43mq2_b\u001b[49m\u001b[43m)\u001b[49m\n",
      "File \u001b[0;32m~/miniconda3/lib/python3.12/site-packages/deepul/hw1_helper.py:138\u001b[0m, in \u001b[0;36mq2b_save_results\u001b[0;34m(dset_type, part, fn)\u001b[0m\n\u001b[1;32m    135\u001b[0m \u001b[38;5;28;01melse\u001b[39;00m:\n\u001b[1;32m    136\u001b[0m     \u001b[38;5;28;01mraise\u001b[39;00m \u001b[38;5;167;01mException\u001b[39;00m()\n\u001b[0;32m--> 138\u001b[0m train_losses, test_losses, samples \u001b[38;5;241m=\u001b[39m \u001b[43mfn\u001b[49m\u001b[43m(\u001b[49m\u001b[43mtrain_data\u001b[49m\u001b[43m,\u001b[49m\u001b[43m \u001b[49m\u001b[43mtest_data\u001b[49m\u001b[43m,\u001b[49m\u001b[43m \u001b[49m\u001b[43mimg_shape\u001b[49m\u001b[43m,\u001b[49m\u001b[43m \u001b[49m\u001b[43mdset_type\u001b[49m\u001b[43m)\u001b[49m\n\u001b[1;32m    139\u001b[0m samples \u001b[38;5;241m=\u001b[39m samples\u001b[38;5;241m.\u001b[39mastype(\u001b[38;5;124m\"\u001b[39m\u001b[38;5;124mfloat32\u001b[39m\u001b[38;5;124m\"\u001b[39m) \u001b[38;5;241m/\u001b[39m \u001b[38;5;241m3\u001b[39m \u001b[38;5;241m*\u001b[39m \u001b[38;5;241m255\u001b[39m\n\u001b[1;32m    141\u001b[0m \u001b[38;5;28mprint\u001b[39m(\u001b[38;5;124mf\u001b[39m\u001b[38;5;124m\"\u001b[39m\u001b[38;5;124mFinal Test Loss: \u001b[39m\u001b[38;5;132;01m{\u001b[39;00mtest_losses[\u001b[38;5;241m-\u001b[39m\u001b[38;5;241m1\u001b[39m]\u001b[38;5;132;01m:\u001b[39;00m\u001b[38;5;124m.4f\u001b[39m\u001b[38;5;132;01m}\u001b[39;00m\u001b[38;5;124m\"\u001b[39m)\n",
      "Cell \u001b[0;32mIn[76], line 89\u001b[0m, in \u001b[0;36mq2_b\u001b[0;34m(train_data, test_data, image_shape, dset_id)\u001b[0m\n\u001b[1;32m     87\u001b[0m \u001b[38;5;66;03m# Use autocast for mixed precision training\u001b[39;00m\n\u001b[1;32m     88\u001b[0m \u001b[38;5;28;01mwith\u001b[39;00m torch\u001b[38;5;241m.\u001b[39mcuda\u001b[38;5;241m.\u001b[39mamp\u001b[38;5;241m.\u001b[39mautocast():\n\u001b[0;32m---> 89\u001b[0m     logits \u001b[38;5;241m=\u001b[39m \u001b[43mmodel\u001b[49m\u001b[43m(\u001b[49m\u001b[43mdata\u001b[49m\u001b[43m)\u001b[49m\n\u001b[1;32m     90\u001b[0m     loss \u001b[38;5;241m=\u001b[39m compute_loss(logits, data)\n\u001b[1;32m     92\u001b[0m \u001b[38;5;66;03m# Scale the loss and backpropagate\u001b[39;00m\n",
      "File \u001b[0;32m~/miniconda3/lib/python3.12/site-packages/torch/nn/modules/module.py:1532\u001b[0m, in \u001b[0;36mModule._wrapped_call_impl\u001b[0;34m(self, *args, **kwargs)\u001b[0m\n\u001b[1;32m   1530\u001b[0m     \u001b[38;5;28;01mreturn\u001b[39;00m \u001b[38;5;28mself\u001b[39m\u001b[38;5;241m.\u001b[39m_compiled_call_impl(\u001b[38;5;241m*\u001b[39margs, \u001b[38;5;241m*\u001b[39m\u001b[38;5;241m*\u001b[39mkwargs)  \u001b[38;5;66;03m# type: ignore[misc]\u001b[39;00m\n\u001b[1;32m   1531\u001b[0m \u001b[38;5;28;01melse\u001b[39;00m:\n\u001b[0;32m-> 1532\u001b[0m     \u001b[38;5;28;01mreturn\u001b[39;00m \u001b[38;5;28;43mself\u001b[39;49m\u001b[38;5;241;43m.\u001b[39;49m\u001b[43m_call_impl\u001b[49m\u001b[43m(\u001b[49m\u001b[38;5;241;43m*\u001b[39;49m\u001b[43margs\u001b[49m\u001b[43m,\u001b[49m\u001b[43m \u001b[49m\u001b[38;5;241;43m*\u001b[39;49m\u001b[38;5;241;43m*\u001b[39;49m\u001b[43mkwargs\u001b[49m\u001b[43m)\u001b[49m\n",
      "File \u001b[0;32m~/miniconda3/lib/python3.12/site-packages/torch/nn/modules/module.py:1541\u001b[0m, in \u001b[0;36mModule._call_impl\u001b[0;34m(self, *args, **kwargs)\u001b[0m\n\u001b[1;32m   1536\u001b[0m \u001b[38;5;66;03m# If we don't have any hooks, we want to skip the rest of the logic in\u001b[39;00m\n\u001b[1;32m   1537\u001b[0m \u001b[38;5;66;03m# this function, and just call forward.\u001b[39;00m\n\u001b[1;32m   1538\u001b[0m \u001b[38;5;28;01mif\u001b[39;00m \u001b[38;5;129;01mnot\u001b[39;00m (\u001b[38;5;28mself\u001b[39m\u001b[38;5;241m.\u001b[39m_backward_hooks \u001b[38;5;129;01mor\u001b[39;00m \u001b[38;5;28mself\u001b[39m\u001b[38;5;241m.\u001b[39m_backward_pre_hooks \u001b[38;5;129;01mor\u001b[39;00m \u001b[38;5;28mself\u001b[39m\u001b[38;5;241m.\u001b[39m_forward_hooks \u001b[38;5;129;01mor\u001b[39;00m \u001b[38;5;28mself\u001b[39m\u001b[38;5;241m.\u001b[39m_forward_pre_hooks\n\u001b[1;32m   1539\u001b[0m         \u001b[38;5;129;01mor\u001b[39;00m _global_backward_pre_hooks \u001b[38;5;129;01mor\u001b[39;00m _global_backward_hooks\n\u001b[1;32m   1540\u001b[0m         \u001b[38;5;129;01mor\u001b[39;00m _global_forward_hooks \u001b[38;5;129;01mor\u001b[39;00m _global_forward_pre_hooks):\n\u001b[0;32m-> 1541\u001b[0m     \u001b[38;5;28;01mreturn\u001b[39;00m \u001b[43mforward_call\u001b[49m\u001b[43m(\u001b[49m\u001b[38;5;241;43m*\u001b[39;49m\u001b[43margs\u001b[49m\u001b[43m,\u001b[49m\u001b[43m \u001b[49m\u001b[38;5;241;43m*\u001b[39;49m\u001b[38;5;241;43m*\u001b[39;49m\u001b[43mkwargs\u001b[49m\u001b[43m)\u001b[49m\n\u001b[1;32m   1543\u001b[0m \u001b[38;5;28;01mtry\u001b[39;00m:\n\u001b[1;32m   1544\u001b[0m     result \u001b[38;5;241m=\u001b[39m \u001b[38;5;28;01mNone\u001b[39;00m\n",
      "Cell \u001b[0;32mIn[74], line 48\u001b[0m, in \u001b[0;36mPixelCNN.forward\u001b[0;34m(self, x)\u001b[0m\n\u001b[1;32m     46\u001b[0m \u001b[38;5;66;03m# Apply 1x1 mask B convolutions with ReLU activations\u001b[39;00m\n\u001b[1;32m     47\u001b[0m \u001b[38;5;28;01mfor\u001b[39;00m layer \u001b[38;5;129;01min\u001b[39;00m \u001b[38;5;28mself\u001b[39m\u001b[38;5;241m.\u001b[39mconv_B_1x1_layers:\n\u001b[0;32m---> 48\u001b[0m     x \u001b[38;5;241m=\u001b[39m \u001b[38;5;28;43mself\u001b[39;49m\u001b[38;5;241;43m.\u001b[39;49m\u001b[43mrelu\u001b[49m\u001b[43m(\u001b[49m\u001b[43mlayer\u001b[49m\u001b[43m(\u001b[49m\u001b[43mx\u001b[49m\u001b[43m)\u001b[49m\u001b[43m)\u001b[49m\n\u001b[1;32m     50\u001b[0m \u001b[38;5;66;03m# Apply final convolution to get logits\u001b[39;00m\n\u001b[1;32m     51\u001b[0m x \u001b[38;5;241m=\u001b[39m \u001b[38;5;28mself\u001b[39m\u001b[38;5;241m.\u001b[39moutput_conv(x)\n",
      "File \u001b[0;32m~/miniconda3/lib/python3.12/site-packages/torch/nn/modules/module.py:1532\u001b[0m, in \u001b[0;36mModule._wrapped_call_impl\u001b[0;34m(self, *args, **kwargs)\u001b[0m\n\u001b[1;32m   1530\u001b[0m     \u001b[38;5;28;01mreturn\u001b[39;00m \u001b[38;5;28mself\u001b[39m\u001b[38;5;241m.\u001b[39m_compiled_call_impl(\u001b[38;5;241m*\u001b[39margs, \u001b[38;5;241m*\u001b[39m\u001b[38;5;241m*\u001b[39mkwargs)  \u001b[38;5;66;03m# type: ignore[misc]\u001b[39;00m\n\u001b[1;32m   1531\u001b[0m \u001b[38;5;28;01melse\u001b[39;00m:\n\u001b[0;32m-> 1532\u001b[0m     \u001b[38;5;28;01mreturn\u001b[39;00m \u001b[38;5;28;43mself\u001b[39;49m\u001b[38;5;241;43m.\u001b[39;49m\u001b[43m_call_impl\u001b[49m\u001b[43m(\u001b[49m\u001b[38;5;241;43m*\u001b[39;49m\u001b[43margs\u001b[49m\u001b[43m,\u001b[49m\u001b[43m \u001b[49m\u001b[38;5;241;43m*\u001b[39;49m\u001b[38;5;241;43m*\u001b[39;49m\u001b[43mkwargs\u001b[49m\u001b[43m)\u001b[49m\n",
      "File \u001b[0;32m~/miniconda3/lib/python3.12/site-packages/torch/nn/modules/module.py:1541\u001b[0m, in \u001b[0;36mModule._call_impl\u001b[0;34m(self, *args, **kwargs)\u001b[0m\n\u001b[1;32m   1536\u001b[0m \u001b[38;5;66;03m# If we don't have any hooks, we want to skip the rest of the logic in\u001b[39;00m\n\u001b[1;32m   1537\u001b[0m \u001b[38;5;66;03m# this function, and just call forward.\u001b[39;00m\n\u001b[1;32m   1538\u001b[0m \u001b[38;5;28;01mif\u001b[39;00m \u001b[38;5;129;01mnot\u001b[39;00m (\u001b[38;5;28mself\u001b[39m\u001b[38;5;241m.\u001b[39m_backward_hooks \u001b[38;5;129;01mor\u001b[39;00m \u001b[38;5;28mself\u001b[39m\u001b[38;5;241m.\u001b[39m_backward_pre_hooks \u001b[38;5;129;01mor\u001b[39;00m \u001b[38;5;28mself\u001b[39m\u001b[38;5;241m.\u001b[39m_forward_hooks \u001b[38;5;129;01mor\u001b[39;00m \u001b[38;5;28mself\u001b[39m\u001b[38;5;241m.\u001b[39m_forward_pre_hooks\n\u001b[1;32m   1539\u001b[0m         \u001b[38;5;129;01mor\u001b[39;00m _global_backward_pre_hooks \u001b[38;5;129;01mor\u001b[39;00m _global_backward_hooks\n\u001b[1;32m   1540\u001b[0m         \u001b[38;5;129;01mor\u001b[39;00m _global_forward_hooks \u001b[38;5;129;01mor\u001b[39;00m _global_forward_pre_hooks):\n\u001b[0;32m-> 1541\u001b[0m     \u001b[38;5;28;01mreturn\u001b[39;00m \u001b[43mforward_call\u001b[49m\u001b[43m(\u001b[49m\u001b[38;5;241;43m*\u001b[39;49m\u001b[43margs\u001b[49m\u001b[43m,\u001b[49m\u001b[43m \u001b[49m\u001b[38;5;241;43m*\u001b[39;49m\u001b[38;5;241;43m*\u001b[39;49m\u001b[43mkwargs\u001b[49m\u001b[43m)\u001b[49m\n\u001b[1;32m   1543\u001b[0m \u001b[38;5;28;01mtry\u001b[39;00m:\n\u001b[1;32m   1544\u001b[0m     result \u001b[38;5;241m=\u001b[39m \u001b[38;5;28;01mNone\u001b[39;00m\n",
      "File \u001b[0;32m~/miniconda3/lib/python3.12/site-packages/torch/nn/modules/activation.py:103\u001b[0m, in \u001b[0;36mReLU.forward\u001b[0;34m(self, input)\u001b[0m\n\u001b[1;32m    102\u001b[0m \u001b[38;5;28;01mdef\u001b[39;00m\u001b[38;5;250m \u001b[39m\u001b[38;5;21mforward\u001b[39m(\u001b[38;5;28mself\u001b[39m, \u001b[38;5;28minput\u001b[39m: Tensor) \u001b[38;5;241m-\u001b[39m\u001b[38;5;241m>\u001b[39m Tensor:\n\u001b[0;32m--> 103\u001b[0m     \u001b[38;5;28;01mreturn\u001b[39;00m \u001b[43mF\u001b[49m\u001b[38;5;241;43m.\u001b[39;49m\u001b[43mrelu\u001b[49m\u001b[43m(\u001b[49m\u001b[38;5;28;43minput\u001b[39;49m\u001b[43m,\u001b[49m\u001b[43m \u001b[49m\u001b[43minplace\u001b[49m\u001b[38;5;241;43m=\u001b[39;49m\u001b[38;5;28;43mself\u001b[39;49m\u001b[38;5;241;43m.\u001b[39;49m\u001b[43minplace\u001b[49m\u001b[43m)\u001b[49m\n",
      "File \u001b[0;32m~/miniconda3/lib/python3.12/site-packages/torch/nn/functional.py:1500\u001b[0m, in \u001b[0;36mrelu\u001b[0;34m(input, inplace)\u001b[0m\n\u001b[1;32m   1498\u001b[0m     result \u001b[38;5;241m=\u001b[39m torch\u001b[38;5;241m.\u001b[39mrelu_(\u001b[38;5;28minput\u001b[39m)\n\u001b[1;32m   1499\u001b[0m \u001b[38;5;28;01melse\u001b[39;00m:\n\u001b[0;32m-> 1500\u001b[0m     result \u001b[38;5;241m=\u001b[39m \u001b[43mtorch\u001b[49m\u001b[38;5;241;43m.\u001b[39;49m\u001b[43mrelu\u001b[49m\u001b[43m(\u001b[49m\u001b[38;5;28;43minput\u001b[39;49m\u001b[43m)\u001b[49m\n\u001b[1;32m   1501\u001b[0m \u001b[38;5;28;01mreturn\u001b[39;00m result\n",
      "\u001b[0;31mOutOfMemoryError\u001b[0m: CUDA out of memory. Tried to allocate 184.00 MiB. GPU "
     ]
    }
   ],
   "source": [
    "q2b_save_results(2, 'b', q2_b)"
   ]
  },
  {
   "cell_type": "markdown",
   "metadata": {
    "id": "LMZLcaHwLNNL"
   },
   "source": [
    "# Question 3: Causal Transformer - iGPT"
   ]
  },
  {
   "cell_type": "markdown",
   "metadata": {},
   "source": [
    "Now we will move onto the current most popular and widespread autoregressive model, the transformer."
   ]
  },
  {
   "cell_type": "markdown",
   "metadata": {
    "id": "50WsEzhx4Uua"
   },
   "source": [
    "## Part (a) Autoregressive Transformer on Shapes and MNIST\n",
    "In this part, implement a simple Autoregressive Transformer to model binary MNIST and shapes images (same as Q2(a), but with a Transformer). \n",
    "\n",
    "Some additional notes about your transformer implementation:\n",
    " * iGPT uses learned positional encodings. We recommend to use those here as well. However, you may also use sinusoidal positional encodings if you wish (see the [Attention is All You Need](https://arxiv.org/abs/1706.03762) paper)\n",
    " * Autoregressive transformer always predicts the **next** token, give prior tokens. iGPT has a special **\\<bos\\>** or beginning of sequence token at the start of every sequence every image. Make sure to include this in your implementation as well. You can generate unconditional sample by conditioning with the **\\<bos\\>** token.\n",
    " * While dropout is a common feature in transformer models, you do not need to add it (but may if you wish!).\n",
    " * Prebuilt transformers exist in some frameworks (i.e. pytorch). Don't just use an off the shelf implementation as the point of the exercise is to better understand the transformer architecture. Building the transformer from the ground up (use primitives such as Linear/Dense layers, LayerNorm, GeLU, Embedding)\n",
    " * Learning rate warmup and cos learning rate decay are often used when training transformers to improve training stability and improve performance. See if this helps your model! Try 1000 steps of warmup with a cosine learning rate decay.\n",
    "\n",
    "Paper references\n",
    "* [Attention Is All You Need](https://arxiv.org/abs/1706.03762) \n",
    "* [Generative Pretraining from Pixels](https://cdn.openai.com/papers/Generative_Pretraining_from_Pixels_V2.pdf) \n",
    "* [Language Models are Unsupervised Multitask Learners](https://cdn.openai.com/better-language-models/language_models_are_unsupervised_multitask_learners.pdf)\n",
    "\n",
    "We recommend the following network design parameters:\n",
    "* $d_{model}$: 128\n",
    "* heads: 4\n",
    "* layers: 2\n",
    "* GeLU nonlinearities\n",
    "\n",
    "And the following hyperparameters:\n",
    "* Batch size: 64 or 32 or 16 (whichever fits in your GPU)\n",
    "* Learning rate: $10^{-3}$\n",
    "* 15 epochs or more\n",
    "* Adam Optimizer (this applies to all Transformers models trained in future parts)\n",
    "\n",
    "**You will provide these deliverables**\n",
    "\n",
    "1. Over the course of training, record the average negative log-likelihood (nats / dim) of the training data (per minibatch) and test data (for your entire test set). Code is provided that automatically plots the training curves. \n",
    "2. Report the final test set performance of your final model\n",
    "3. 100 samples from the final trained model\n",
    "\n"
   ]
  },
  {
   "cell_type": "code",
   "execution_count": null,
   "metadata": {},
   "outputs": [],
   "source": [
    "def q3_a(train_data, test_data, image_shape, dset_id):\n",
    "  \"\"\"\n",
    "  train_data: A (n_train, H, W, 1) uint8 numpy array of color images with values in {0, 1}\n",
    "  test_data: A (n_test, H, W, 1) uint8 numpy array of color images with values in {0, 1}\n",
    "  image_shape: (H, W, 1), height, width, and # of channels of the image\n",
    "  dset_id: An identifying number of which dataset is given (1 or 2). Most likely\n",
    "           used to set different hyperparameters for different datasets\n",
    "\n",
    "  Returns\n",
    "  - a (# of training iterations,) numpy array of train_losses evaluated every minibatch\n",
    "  - a (# of epochs + 1,) numpy array of test_losses evaluated once at initialization and after each epoch\n",
    "  - a numpy array of size (100, H, W, 1) of samples with values in {0, 1}\n",
    "  \"\"\"\n",
    "  return train_losses, test_losses, samples"
   ]
  },
  {
   "cell_type": "markdown",
   "metadata": {
    "id": "mGp2OsLKiToN"
   },
   "source": [
    "### Results\n",
    "\n",
    "Once you've implemented `q3_a`, execute the cells below to visualize and save your results"
   ]
  },
  {
   "cell_type": "code",
   "execution_count": null,
   "metadata": {
    "colab": {
     "base_uri": "https://localhost:8080/",
     "height": 577
    },
    "id": "kW-k-59qJaKN",
    "outputId": "78b08f6a-12db-46b7-ac27-a07693a9cd09"
   },
   "outputs": [],
   "source": [
    "q3ab_save_results(1, 'a', q3_a)"
   ]
  },
  {
   "cell_type": "code",
   "execution_count": null,
   "metadata": {
    "colab": {
     "base_uri": "https://localhost:8080/",
     "height": 577
    },
    "id": "It_iPXaZjlk0",
    "outputId": "3ba138b1-71c9-4f67-8413-b5ef23db8204"
   },
   "outputs": [],
   "source": [
    "q3ab_save_results(2, 'a', q3_a)"
   ]
  },
  {
   "cell_type": "markdown",
   "metadata": {
    "id": "50WsEzhx4Uua"
   },
   "source": [
    "## Part (b) iGPT on Colored Shapes and MNIST\n",
    "\n",
    "Now, implement an iGPT that models color. In order to reduce the length of token sequences, iGPT models each RGB pixel as a **single** token. This effectively reduces the context length from H*W*C to just H*W. iGPT does this through a k-means clustering approach. Because our images only each can only take on 4 values (2 bits) per channel, we can represent each pixel with 64 values (6 bits). Convert the dataset into an image of tokens and train iGPT on the colored shapes and MNIST dataset.\n",
    "\n",
    "Checkout the iGPT paper for more details: [Generative Pretraining from Pixels](https://cdn.openai.com/papers/Generative_Pretraining_from_Pixels_V2.pdf) \n",
    "\n",
    "Training times and hyperparameter settings should be the same as part (a), except train for longer (15 epochs)\n",
    "\n",
    "**You will provide these deliverables**\n",
    "\n",
    "1.   Over the course of training, record the average negative log-likelihood (nats / dim) of the training data (per minibatch) and test data (for your entire test set). Code is provided that automatically plots the training curves. \n",
    "2.   Report the final test set performance of your final model\n",
    "3. 100 samples from the final trained model\n"
   ]
  },
  {
   "cell_type": "code",
   "execution_count": null,
   "metadata": {},
   "outputs": [],
   "source": [
    "def q3_b(train_data, test_data, image_shape, dset_id):\n",
    "    \"\"\"\n",
    "    train_data: A (n_train, H, W, C) uint8 numpy array of color images with values in {0, 1, 2, 3}\n",
    "    test_data: A (n_test, H, W, C) uint8 numpy array of color images with values in {0, 1, 2, 3}\n",
    "    image_shape: (H, W, C), height, width, and # of channels of the image\n",
    "    dset_id: An identifying number of which dataset is given (1 or 2). Most likely\n",
    "            used to set different hyperparameters for different datasets\n",
    "\n",
    "    Returns\n",
    "    - a (# of training iterations,) numpy array of train_losses evaluated every minibatch\n",
    "    - a (# of epochs + 1,) numpy array of test_losses evaluated once at initialization and after each epoch\n",
    "    - a numpy array of size (100, H, W, C) of samples with values in {0, 1, 2, 3}\n",
    "    \"\"\"\n"
   ]
  },
  {
   "cell_type": "markdown",
   "metadata": {
    "id": "mGp2OsLKiToN"
   },
   "source": [
    "### Results\n",
    "\n",
    "Once you've implemented `q3_b`, execute the cells below to visualize and save your results"
   ]
  },
  {
   "cell_type": "code",
   "execution_count": null,
   "metadata": {
    "colab": {
     "base_uri": "https://localhost:8080/",
     "height": 577
    },
    "id": "kW-k-59qJaKN",
    "outputId": "78b08f6a-12db-46b7-ac27-a07693a9cd09"
   },
   "outputs": [],
   "source": [
    "q3ab_save_results(1, 'b', q3_b)"
   ]
  },
  {
   "cell_type": "code",
   "execution_count": null,
   "metadata": {
    "colab": {
     "base_uri": "https://localhost:8080/",
     "height": 577
    },
    "id": "It_iPXaZjlk0",
    "outputId": "3ba138b1-71c9-4f67-8413-b5ef23db8204"
   },
   "outputs": [],
   "source": [
    "q3ab_save_results(2, 'b', q3_b)"
   ]
  },
  {
   "cell_type": "markdown",
   "metadata": {
    "id": "50WsEzhx4Uua"
   },
   "source": [
    "## Part (c) K, V Caching for Improved Inference\n",
    "You may have noticed that generation from the transformer is quite slow. Part of this is just due to the autoregressive nature. However, another part is due to some computational inefficiency. At each forward pass of the model, we are performing repeat computation of the past sequence. Specifically, we can cache the key and values at the multi attention layer to more quickly predict at each step.\n",
    "\n",
    "In self-attention, a sequence is processed by generating three vectors for each element in the sequence: a Query (Q), a Key (K), and a Value (V). These vectors are then used to compute attention scores and subsequently the output of the attention layer.\n",
    "Mathematically, this can be represented as:\n",
    " * For each index $i$, compute $Q_i$, $K_i$, $V_i$ for the current element\n",
    " * Retrieve $K_{<i}$ and $V_{<i}$ from the cache (where $<i$ denotes all indices before the current one)\n",
    " * Compute the attention output using $Q_i$, $[K_{<i}, K_i]$, $[V_{<i}, V_i]$\n",
    "\n",
    "\n",
    "Next implement caching for your transformer to make inference more efficient by modifying your self attention. Use caching for inference in the future problems for faster generation! (Note caching is only used during inference). You will use the same dataset as in part B, dataset 2 of this question (colored mnist). No training is required in this section, feel free to reuse the model you trained in part B, dataset 2.\n",
    "\n",
    "**You will provide these deliverables**\n",
    "\n",
    "1. Over the course of inference, measure the time for the forward pass over the total sequence length with and without caching.\n",
    "3. 100 samples from the final trained model using the caching inference pipeline.\n",
    "\n"
   ]
  },
  {
   "cell_type": "code",
   "execution_count": null,
   "metadata": {},
   "outputs": [],
   "source": [
    "def q3_c(train_data, test_data, image_shape, dset_id):\n",
    "  \"\"\"\n",
    "  train_data: A (n_train, H, W, C) uint8 numpy array of color images with values in {0, 1, 2, 3}\n",
    "  test_data: A (n_test, H, W, C) uint8 numpy array of color images with values in {0, 1, 2, 3}\n",
    "  image_shape: (H, W, C), height, width, and # of channels of the image\n",
    "  dset_id: An identifying number of which dataset is given (1 or 2). Most likely\n",
    "           used to set different hyperparameters for different datasets\n",
    "\n",
    "  Returns\n",
    "  - a (# sampling steps,) numpy array of time per sampling iteration, without caching\n",
    "  - a (# sampling steps,) numpy array of time per sampling iteration, with without caching\n",
    "  - a numpy array of size (100, H, C, W) of samples with values in {0, 1, 2, 3} (sample generated without caching)\n",
    "  - a numpy array of size (100, H, C, W) of samples with values in {0, 1, 2, 3} (sample generated with caching)\n",
    "  \"\"\"\n",
    "  return time_list_no_cache, time_list_with_cache, samples_no_cache, samples_with_cache"
   ]
  },
  {
   "cell_type": "markdown",
   "metadata": {
    "id": "mGp2OsLKiToN"
   },
   "source": [
    "### Results\n",
    "\n",
    "Once you've implemented `q3_c`, execute the cells below to visualize and save your results\n",
    "\n"
   ]
  },
  {
   "cell_type": "code",
   "execution_count": null,
   "metadata": {
    "colab": {
     "base_uri": "https://localhost:8080/",
     "height": 577
    },
    "id": "kW-k-59qJaKN",
    "outputId": "78b08f6a-12db-46b7-ac27-a07693a9cd09"
   },
   "outputs": [],
   "source": [
    "q3c_save_results(2, q3_c)"
   ]
  },
  {
   "cell_type": "markdown",
   "metadata": {
    "id": "LMZLcaHwLNNL"
   },
   "source": [
    "# Question 4: Causal Transformer: Tokenized Images"
   ]
  },
  {
   "cell_type": "markdown",
   "metadata": {},
   "source": [
    "## Image Tokenization with Vector Quanization"
   ]
  },
  {
   "cell_type": "markdown",
   "metadata": {},
   "source": [
    "## Part (a) Image Quantization\n",
    "\n",
    "Above, we implemented iGPT, which autoregressivly predicts raw pixels. Transformers have quadratic complexity in the sequence length which prevents this naive approach from scaling well to large images.\n",
    "\n",
    "The space of natural images often contains very correlated information. This suggests we can learn a reduced representation. VQVAE is a method that does just that, learning to map images to a more compact discrete set of tokens. We will cover this method in more detail in future lectures. The only thing you need to know now is that we can learn an encoder (and corresponding decoder), which can extract a discrete representation from an image. \n",
    "\n",
    "If you are curious, checkout the VQVAE paper to learn more: https://arxiv.org/abs/1711.00937 (we will cover this in a future lecture though!)\n",
    "\n",
    "In this part, we provide a pre-trained VQVAE model, which consists of:\n",
    " * encoder to tokenize the images\n",
    " * the decoder to recover the image\n",
    " * a token vocabulary of VQVAE_MODEL.n_embeddings\n",
    "\n",
    "Below is the code for loading the VQ model. Note that VQVAE encoding process is lossy, so the decoded images will not be the exact same as the input. Some blurriness in the recovered image is to be expected. The docstrings of the relevant methods you will need for the VQVAE_MODEL are provided below for your convenience. \n",
    "\n",
    "We will use 2 colored mnist datasets in this part. The first is the same dataset used in previous parts. The second, hads a colored digit on a differently colored background. We will call these datasets Colored MNIST and Colored MNIST v2. Note that the vqvae is trained per dataset.\n",
    "\n",
    "**You will provide these deliverables**\n",
    "\n",
    "1. Use the provided encoder model to quantize the images then inspect the recovered images by applying the decoder for each of the two datasets"
   ]
  },
  {
   "cell_type": "code",
   "execution_count": null,
   "metadata": {},
   "outputs": [],
   "source": [
    "# @property\n",
    "# def n_embeddings(self) -> int:\n",
    "#     \"\"\"The size of the token vocabulary\"\"\"\n",
    "#    \n",
    "# def quantize(self, x: np.ndarray) -> np.ndarray:\n",
    "#     \"\"\"Quantize an image x.\n",
    "#\n",
    "#     Args:\n",
    "#         x (np.ndarray, dtype=int): Image to quantize. shape=(batch_size, 28, 28, 3). Values in [0, 3].\n",
    "#\n",
    "#     Returns:\n",
    "#         np.ndarray: Quantized image. shape=(batch_size, 7, 7). Values in [0, n_embeddings]\n",
    "#     \"\"\"\n",
    "#    \n",
    "# def decode(self, z_index: np.ndarray) -> np.ndarray:\n",
    "#     \"\"\"Decode a quantized image.\n",
    "#\n",
    "#     Args:\n",
    "#         z_index (np.ndarray, dtype=int): Quantized image. shape=(batch_size, 7, 7). Values in [0, n_embeddings].\n",
    "#\n",
    "#     Returns:\n",
    "#         np.ndarray: Decoded image. shape=(batch_size, 28, 28, 3). Values in [0, 3].\n",
    "#     \"\"\"\n",
    "# "
   ]
  },
  {
   "cell_type": "code",
   "execution_count": null,
   "metadata": {},
   "outputs": [],
   "source": [
    "def q4_a(images, vqvae):\n",
    "  \"\"\"\n",
    "  images: (B, H, W, C), the images to pass through the encoder and decoder of the vqvae\n",
    "  vqvae: a vqvae model, trained on the relevant dataset\n",
    "\n",
    "  Returns\n",
    "  - a numpy array of size (2, H, W, C) of the decoded image\n",
    "  \"\"\"\n",
    "  return autoencoded_images"
   ]
  },
  {
   "cell_type": "code",
   "execution_count": null,
   "metadata": {},
   "outputs": [],
   "source": [
    "q4a_save_results(1, q4_a)"
   ]
  },
  {
   "cell_type": "code",
   "execution_count": null,
   "metadata": {},
   "outputs": [],
   "source": [
    "q4a_save_results(2, q4_a)"
   ]
  },
  {
   "cell_type": "markdown",
   "metadata": {
    "id": "50WsEzhx4Uua"
   },
   "source": [
    "## Part (b) Autoregressive Transformer on Colored Shapes and MNIST with Vector Quantization\n",
    "\n",
    "We can use the VQVAE to tokenize an image dataset. This will result in a much smaller sequence length than the approach we tried in Question 3(b). For this part, train a transformer on the dataset tokenized by the VQVAE.\n",
    "\n",
    "This is a simplified version of the approach used in VQGAN [VQGAN](https://arxiv.org/abs/2012.09841) -> Section 3.2: Learning the Composition of Images with Transformers (Again, we will cover this in more detail in a future lecture!)\n",
    "\n",
    "Update the following hyperparameters:\n",
    "* layers: 4 (we can train a bigger transformer now since less memory is used per input!)\n",
    "* 30 epochs\n",
    "\n",
    "**You will provide these deliverables**\n",
    "\n",
    "1. Over the course of training, record the average negative log-likelihood (nats / dim) of the training data (per minibatch) and test data (for your entire test set). Code is provided that automatically plots the training curves. \n",
    "2. Report the final test set performance of your final model\n",
    "3. 100 samples from the final trained model"
   ]
  },
  {
   "cell_type": "code",
   "execution_count": null,
   "metadata": {},
   "outputs": [],
   "source": [
    "def q4_b(train_data, test_data, image_shape, dset_id, vqvae):\n",
    "  \"\"\"\n",
    "  train_data: A (n_train, H, W, C) uint8 numpy array of color images with values in {0, 1, 2, 3}\n",
    "  test_data: A (n_test, H, W, C) uint8 numpy array of color images with values in {0, 1, 2, 3}\n",
    "  image_shape: (H, W, C), height, width, and # of channels of the image\n",
    "  dset_id: An identifying number of which dataset is given (1 or 2). Most likely\n",
    "           used to set different hyperparameters for different datasets\n",
    "  vqvae: a vqvae model, trained on dataset dset_id\n",
    "\n",
    "  Returns\n",
    "  - a (# of training iterations,) numpy array of train_losses evaluated every minibatch\n",
    "  - a (# of epochs + 1,) numpy array of test_losses evaluated once at initialization and after each epoch\n",
    "  - a numpy array of size (100, H, C, W) of samples with values in {0, 1, 2, 3}\n",
    "  \"\"\"\n",
    "  return train_losses, test_losses, samples"
   ]
  },
  {
   "cell_type": "markdown",
   "metadata": {
    "id": "mGp2OsLKiToN"
   },
   "source": [
    "### Results\n",
    "\n",
    "Once you've implemented `q4_b`, execute the cells below to visualize and save your results\n",
    "\n"
   ]
  },
  {
   "cell_type": "code",
   "execution_count": null,
   "metadata": {
    "colab": {
     "base_uri": "https://localhost:8080/",
     "height": 577
    },
    "id": "kW-k-59qJaKN",
    "outputId": "78b08f6a-12db-46b7-ac27-a07693a9cd09"
   },
   "outputs": [],
   "source": [
    "q4b_save_results(1, q4_b)"
   ]
  },
  {
   "cell_type": "code",
   "execution_count": null,
   "metadata": {
    "colab": {
     "base_uri": "https://localhost:8080/",
     "height": 577
    },
    "id": "It_iPXaZjlk0",
    "outputId": "3ba138b1-71c9-4f67-8413-b5ef23db8204"
   },
   "outputs": [],
   "source": [
    "q4b_save_results(2, q4_b)"
   ]
  },
  {
   "cell_type": "markdown",
   "metadata": {
    "id": "LMZLcaHwLNNL"
   },
   "source": [
    "# Question 5: Causal Transformer: Text"
   ]
  },
  {
   "cell_type": "markdown",
   "metadata": {},
   "source": [
    "Now lets consider text! You are probably already fimilar with autoregressive transformers for text, now more commonly known as Large Language Modesl (LLMs).\n",
    "We will now implement a simplified version.\n",
    "\n",
    "We will be detailing with a [small poetry dataset](https://huggingface.co/datasets/merve/poetry). See some of the data below."
   ]
  },
  {
   "cell_type": "code",
   "execution_count": null,
   "metadata": {},
   "outputs": [],
   "source": [
    "data = visualize_q5_data()"
   ]
  },
  {
   "cell_type": "markdown",
   "metadata": {},
   "source": [
    "## Part (a) Modeling Text\n",
    "Train a transformer on the poetry dataset.\n",
    "\n",
    "Data Preprocessing:\n",
    "* We will use a simple method to tokenize the data. We will convert each unique character into a token. (Current LLMs use more sophisticated tokenizers, most commonly, [byte-pair encoding](https://huggingface.co/learn/nlp-course/chapter6/5?fw=pt))\n",
    "* Previously we have leveraged a **\\<bos\\>** as part of the model, just like iGPT. For text, we may not always sample a sequence that starts at the beginning. Instead, we will add the **\\<bos\\>** token to the beginning of every sequence in the dataset, and remove the **\\<bos\\>** token from the model.\n",
    "* Another problem is that the model must know when to stop sampling. This is done by appending an **\\<eos\\>**, or end of sequence token at the end of every sequence in the dataset.\n",
    "* We can now convert the sequence into subsequences of size context_length, for training!\n",
    "\n",
    "We recommend the following hyperparameters:\n",
    "* Sequence length: 128\n",
    "* 5 epochs\n",
    "\n",
    "**You will provide these deliverables**\n",
    "\n",
    "1. Over the course of training, record the average negative log-likelihood (nats / dim) of the training data (per minibatch) and test data (for your entire test set). Code is provided that automatically plots the training curves. \n",
    "2. Report the final test set performance of your final model\n",
    "3. Provide **5 unconditional samples** of **128 characters** showcasing the model text generation capabilities (text samples should stop after **\\<eos\\>**. Text after **\\<eos\\>** can be removed in post processing)"
   ]
  },
  {
   "cell_type": "code",
   "execution_count": null,
   "metadata": {},
   "outputs": [],
   "source": [
    "import torch.utils.data as data\n",
    "def q5_a(train_text, test_text):\n",
    "  \"\"\"\n",
    "  train_text: list[str] Train text sequences.\n",
    "  test_text: list[str] Test text sequences.\n",
    "\n",
    "  Returns\n",
    "  - a (# of training iterations,) numpy array of train_losses evaluated every minibatch\n",
    "  - a (# of epochs + 1,) numpy array of test_losses evaluated once at initialization and after each epoch\n",
    "  - a list of 5 (str), 5 generated samples from the model.\n",
    "  \"\"\"\n",
    "  return train_losses, test_losses, text_samples"
   ]
  },
  {
   "cell_type": "markdown",
   "metadata": {
    "id": "mGp2OsLKiToN"
   },
   "source": [
    "### Results\n",
    "\n",
    "Once you've implemented `q5_a`, execute the cells below to visualize and save your results\n",
    "\n"
   ]
  },
  {
   "cell_type": "code",
   "execution_count": null,
   "metadata": {
    "colab": {
     "base_uri": "https://localhost:8080/",
     "height": 577
    },
    "id": "kW-k-59qJaKN",
    "outputId": "78b08f6a-12db-46b7-ac27-a07693a9cd09"
   },
   "outputs": [],
   "source": [
    "q5a_save_results(q5_a)"
   ]
  },
  {
   "cell_type": "markdown",
   "metadata": {
    "id": "LMZLcaHwLNNL"
   },
   "source": [
    "# Question 6: Causal Transformer: Multimodal"
   ]
  },
  {
   "cell_type": "markdown",
   "metadata": {},
   "source": [
    "So far, we have been dealing only with autoregressive generation of a single modality. Now we will train a model that operates on multiple modalities!\n",
    "\n",
    "We will use the text labeled colored MNIST dataset, which has a text description of the MNIST image. Run the cell below to visualize the data along with the text annotation. This is the Colored MNIST v2 dataset, which also comes with these text labels."
   ]
  },
  {
   "cell_type": "code",
   "execution_count": null,
   "metadata": {},
   "outputs": [],
   "source": [
    "visualize_q6_data()"
   ]
  },
  {
   "cell_type": "markdown",
   "metadata": {},
   "source": [
    "## Part (a) Multimodal Text and Image Generation\n",
    "Implement and train an autoregressive (AR) model capable of handling both text and image data. The model should be designed to process sequences composed of concatenated text and image tokens in both orders (text followed by images and images followed by text). Additionally, the model should be capable of generating unconditional text and image samples.\n",
    "\n",
    "Data Preprocessing:\n",
    "* Text Tokens: Map each unique word in the text data to a unique token. (Note that all text descriptions contain the exact same amount of words. This simplifies text processing, as you won't have to deal with sequences of different lengths as in Question 5)\n",
    "* Image Tokens: Quantize the image data into tokens using the VQVAE tokenizer from Problem 4.\n",
    "* In this problem, we have 2 modalities. Introduce an **\\<end of text\\>** token and an **\\<end of image\\>** token. After seeing such a token, the model should switch to sampling the next modality.\n",
    "* Formulate batches as sequences of concat([**\\<end of image\\>**, text_tokens, **\\<end of text\\>**, image_tokens]) and concat([**\\<end of text\\>**, image_tokens, **\\<end of image\\>**, text_tokens]). With a 50/50 split between each ordering.\n",
    "\n",
    "Inference:\n",
    "* During inference, we cannot mix modality tokens. During sampling we can restrict the logits to only be within the relevant modality.\n",
    "* After **\\<end of image\\>**, only allow the model to sample text tokens (including **\\<end of text\\>**)\n",
    "* After **\\<end of text\\>**, only allow the model to sample image tokens (including **\\<end of image\\>**)\n",
    "* At the very start (conditioned on the **\\<bos\\>** token, only allow the model to sample one of (**\\<end of image\\>** or **\\<end of text\\>**))\n",
    "* As the model may not always correctly sample the **\\<end of image\\>** token before the image ends, you may add a rule to force the model to always sample the correct number of image tokens (49 tokens).\n",
    "\n",
    "You can use the same hyperparameters as in 4(b) (but of course, feel free to tune your model to achieve better performance)\n",
    "\n",
    "**You will provide these deliverables**\n",
    "\n",
    "1. Over the course of training, record the average negative log-likelihood (nats / dim) of the training data (per minibatch) and test data (for your entire test set). Code is provided that automatically plots the training curves. \n",
    "2. Report the final test set performance of your final model\n",
    "3. 9 conditional samples based on provided text.\n",
    "4. 9 conditional samples based on provided images.\n",
    "5. 9 unconditional samples showcasing the model's capability in generating standalone text and images."
   ]
  },
  {
   "cell_type": "code",
   "execution_count": null,
   "metadata": {},
   "outputs": [],
   "source": [
    "def q6_a(train_data, test_data, image_shape, train_text, test_text, image_test_prompt, text_test_prompt, vqvae):\n",
    "  \"\"\"\n",
    "  train_data: A (n_train, H, W, C) uint8 numpy array of color images with values in {0, 1, 2, 3}\n",
    "  test_data: A (n_test, H, W, C) uint8 numpy array of color images with values in {0, 1, 2, 3}\n",
    "  image_shape: tuple (H, W, C) The shape of the images in the dataset, indicating height, width, and number of color channels.\n",
    "  train_text: list[str] Text data associated with each training image.\n",
    "  test_text: list[str] Text data associated with each test image.\n",
    "  image_test_prompt: (9, H, W, C) Image data used for generating conditional text samples during testing.\n",
    "  text_test_prompt: list of 9 strings Text prompts used for generating conditional image samples during testing.\n",
    "  vqvae: a vqvae model, trained on the relevant dataset\n",
    "\n",
    "  Returns\n",
    "  - a (# of training iterations,) numpy array of train_losses evaluated every minibatch\n",
    "  - a (# of epochs + 1,) numpy array of test_losses evaluated once at initialization and after each epoch\n",
    "  - a list of 9 (image, text), corresponding to the image conditioned samples\n",
    "  - a list of 9 (image, text), corresponding to the text conditions samples\n",
    "  - a list of 9 (image, text), corresponding to unconditional samples\n",
    "  \"\"\"\n",
    "  return train_losses, test_losses, samples_image_conditioned, samples_text_conditioned, samples_unconditioned"
   ]
  },
  {
   "cell_type": "markdown",
   "metadata": {
    "id": "mGp2OsLKiToN"
   },
   "source": [
    "### Results\n",
    "\n",
    "Once you've implemented `q6_a`, execute the cells below to visualize and save your results\n",
    "\n"
   ]
  },
  {
   "cell_type": "code",
   "execution_count": null,
   "metadata": {
    "colab": {
     "base_uri": "https://localhost:8080/",
     "height": 577
    },
    "id": "kW-k-59qJaKN",
    "outputId": "78b08f6a-12db-46b7-ac27-a07693a9cd09"
   },
   "outputs": [],
   "source": [
    "q6a_save_results(q6_a)"
   ]
  }
 ],
 "metadata": {
  "accelerator": "GPU",
  "colab": {
   "collapsed_sections": [],
   "include_colab_link": true,
   "name": " Homework 1 Autoregressive Models (Solutions).ipynb",
   "provenance": [],
   "toc_visible": true
  },
  "kernelspec": {
   "display_name": "gates-project-2",
   "language": "python",
   "name": "python3"
  },
  "language_info": {
   "codemirror_mode": {
    "name": "ipython",
    "version": 3
   },
   "file_extension": ".py",
   "mimetype": "text/x-python",
   "name": "python",
   "nbconvert_exporter": "python",
   "pygments_lexer": "ipython3",
   "version": "3.12.2"
  }
 },
 "nbformat": 4,
 "nbformat_minor": 4
}
